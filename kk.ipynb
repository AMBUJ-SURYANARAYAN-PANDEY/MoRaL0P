{
  "nbformat": 4,
  "nbformat_minor": 0,
  "metadata": {
    "colab": {
      "provenance": [],
      "collapsed_sections": [],
      "authorship_tag": "ABX9TyPxtntVn7QIq3TLY4lS2s3x",
      "include_colab_link": true
    },
    "kernelspec": {
      "name": "python3",
      "display_name": "Python 3"
    },
    "language_info": {
      "name": "python"
    }
  },
  "cells": [
    {
      "cell_type": "markdown",
      "metadata": {
        "id": "view-in-github",
        "colab_type": "text"
      },
      "source": [
        "<a href=\"https://colab.research.google.com/github/AMBUJ-SURYANARAYAN-PANDEY/MoRaL0P/blob/main/kk.ipynb\" target=\"_parent\"><img src=\"https://colab.research.google.com/assets/colab-badge.svg\" alt=\"Open In Colab\"/></a>"
      ]
    },
    {
      "cell_type": "code",
      "execution_count": null,
      "metadata": {
        "colab": {
          "base_uri": "https://localhost:8080/"
        },
        "id": "dlT1v236IGlZ",
        "outputId": "f6e28ffa-c85c-4952-9b49-659846da5108"
      },
      "outputs": [
        {
          "output_type": "stream",
          "name": "stdout",
          "text": [
            "rac,tegnam,rats\n",
            "STAR,MANGET,CAR\n",
            "star,manget,car\n",
            "['star', 'manget', 'car']\n",
            "manget\n",
            "welcome to data scientist star,manget,car !\n"
          ]
        }
      ],
      "source": [
        "a = \"star,manget,car\" \n",
        "print(a[::-1])\n",
        "print(a.upper())\n",
        "print(a.lower())\n",
        "b = a.split(',')\n",
        "print(b)\n",
        "print(b[1])\n",
        "print(f\"welcome to data scientist {a} !\")"
      ]
    },
    {
      "cell_type": "code",
      "source": [
        "a = [1,2,3,4,5]\n",
        "from random import shuffle \n",
        "shuffle(a)\n",
        "print(a)\n",
        "a.append(7)\n",
        "print(a)\n",
        "b = [\"champ\",21,99.5]\n",
        "b.reverse()\n",
        "print(b)\n",
        "c=[a,b]\n",
        "print(c)\n",
        "print(c[0])\n",
        "print(c[0][0])\n",
        "print(b)\n",
        "print(a,b)\n",
        "print(len(a))\n",
        "print(b[0])\n",
        "print(a[:2])\n",
        "print(b[:1])\n",
        "print(a+b)\n",
        "print(min(a))\n",
        "print(max(a))\n",
        "print(a[0][0])\n",
        "\n",
        "\n",
        "\"\"\"print(a*b)\n",
        "print(a-b)\n",
        "print(a/b)\n",
        "print(a%b)\"\"\""
      ],
      "metadata": {
        "colab": {
          "base_uri": "https://localhost:8080/",
          "height": 495
        },
        "id": "Qpd3MFrdLBYy",
        "outputId": "e2c74066-0da1-4041-fd89-b521d083b5a4"
      },
      "execution_count": 17,
      "outputs": [
        {
          "output_type": "stream",
          "name": "stdout",
          "text": [
            "[4, 5, 2, 3, 1]\n",
            "[4, 5, 2, 3, 1, 7]\n",
            "[99.5, 21, 'champ']\n",
            "[[4, 5, 2, 3, 1, 7], [99.5, 21, 'champ']]\n",
            "[4, 5, 2, 3, 1, 7]\n",
            "4\n",
            "[99.5, 21, 'champ']\n",
            "[4, 5, 2, 3, 1, 7] [99.5, 21, 'champ']\n",
            "6\n",
            "99.5\n",
            "[4, 5]\n",
            "[99.5]\n",
            "[4, 5, 2, 3, 1, 7, 99.5, 21, 'champ']\n",
            "1\n",
            "7\n"
          ]
        },
        {
          "output_type": "error",
          "ename": "TypeError",
          "evalue": "ignored",
          "traceback": [
            "\u001b[0;31m---------------------------------------------------------------------------\u001b[0m",
            "\u001b[0;31mTypeError\u001b[0m                                 Traceback (most recent call last)",
            "\u001b[0;32m<ipython-input-17-284ea5fc6521>\u001b[0m in \u001b[0;36m<module>\u001b[0;34m\u001b[0m\n\u001b[1;32m     21\u001b[0m \u001b[0mprint\u001b[0m\u001b[0;34m(\u001b[0m\u001b[0mmin\u001b[0m\u001b[0;34m(\u001b[0m\u001b[0ma\u001b[0m\u001b[0;34m)\u001b[0m\u001b[0;34m)\u001b[0m\u001b[0;34m\u001b[0m\u001b[0;34m\u001b[0m\u001b[0m\n\u001b[1;32m     22\u001b[0m \u001b[0mprint\u001b[0m\u001b[0;34m(\u001b[0m\u001b[0mmax\u001b[0m\u001b[0;34m(\u001b[0m\u001b[0ma\u001b[0m\u001b[0;34m)\u001b[0m\u001b[0;34m)\u001b[0m\u001b[0;34m\u001b[0m\u001b[0;34m\u001b[0m\u001b[0m\n\u001b[0;32m---> 23\u001b[0;31m \u001b[0mprint\u001b[0m\u001b[0;34m(\u001b[0m\u001b[0ma\u001b[0m\u001b[0;34m[\u001b[0m\u001b[0;36m0\u001b[0m\u001b[0;34m]\u001b[0m\u001b[0;34m[\u001b[0m\u001b[0;36m0\u001b[0m\u001b[0;34m]\u001b[0m\u001b[0;34m)\u001b[0m\u001b[0;34m\u001b[0m\u001b[0;34m\u001b[0m\u001b[0m\n\u001b[0m\u001b[1;32m     24\u001b[0m \u001b[0;34m\u001b[0m\u001b[0m\n\u001b[1;32m     25\u001b[0m \u001b[0;34m\u001b[0m\u001b[0m\n",
            "\u001b[0;31mTypeError\u001b[0m: 'int' object is not subscriptable"
          ]
        }
      ]
    },
    {
      "cell_type": "code",
      "source": [
        "a =[1,2,3,4,5,6]\n",
        "for i in a:\n",
        "  print(i)\n",
        "a = [i for i in 'KING']\n",
        "a\n",
        "a =[1,2,3,4]\n",
        "for i in a:\n",
        "  if i % 2 == 0:\n",
        "    print(i,\"Even no.\")\n",
        "  else:\n",
        "    print(i,\"Odd no.\")\n",
        "print(\"\\n\")\n",
        "for a in \"Hello World\":\n",
        "   print(a)\n",
        "print(\"\\n\")\n",
        "a = 0\n",
        "while a < 10:\n",
        "  print(a)\n",
        "  a+=1"
      ],
      "metadata": {
        "colab": {
          "base_uri": "https://localhost:8080/"
        },
        "id": "ZK3qye9H7Vb2",
        "outputId": "03e0f402-a6e9-44eb-a146-679bf914a50c"
      },
      "execution_count": 42,
      "outputs": [
        {
          "output_type": "stream",
          "name": "stdout",
          "text": [
            "1\n",
            "2\n",
            "3\n",
            "4\n",
            "5\n",
            "6\n",
            "1 Odd no.\n",
            "2 Even no.\n",
            "3 Odd no.\n",
            "4 Even no.\n",
            "\n",
            "\n",
            "H\n",
            "e\n",
            "l\n",
            "l\n",
            "o\n",
            " \n",
            "W\n",
            "o\n",
            "r\n",
            "l\n",
            "d\n",
            "\n",
            "\n",
            "0\n",
            "1\n",
            "2\n",
            "3\n",
            "4\n",
            "5\n",
            "6\n",
            "7\n",
            "8\n",
            "9\n"
          ]
        }
      ]
    },
    {
      "cell_type": "code",
      "source": [
        "a = {\"Name\":\"ANUJ\",\"Age\":\"22\",\"Company\":['KING','love']}\n",
        "for k,v in a.items():\n",
        "   print(k)\n",
        "   #print(v)"
      ],
      "metadata": {
        "colab": {
          "base_uri": "https://localhost:8080/"
        },
        "id": "9F8-E-PE9U3b",
        "outputId": "2c2f4350-a78e-45e7-9175-ad0405843349"
      },
      "execution_count": 39,
      "outputs": [
        {
          "output_type": "stream",
          "name": "stdout",
          "text": [
            "Name\n",
            "Age\n",
            "Company\n"
          ]
        }
      ]
    },
    {
      "cell_type": "code",
      "source": [],
      "metadata": {
        "id": "UR21iImV_PkM"
      },
      "execution_count": null,
      "outputs": []
    },
    {
      "cell_type": "code",
      "source": [
        "a = {\"Name\":\"ANUJ\",\"Age\":\"22\",\"Company\":['KING','love']}\n",
        "for k,v in a.items():\n",
        "   print(k)\n",
        "   print(v)"
      ],
      "metadata": {
        "colab": {
          "base_uri": "https://localhost:8080/"
        },
        "outputId": "f9ac3ae1-c633-44c9-8db0-09ab50d0377a",
        "id": "lQINlbtO_QsX"
      },
      "execution_count": 40,
      "outputs": [
        {
          "output_type": "stream",
          "name": "stdout",
          "text": [
            "Name\n",
            "ANUJ\n",
            "Age\n",
            "22\n",
            "Company\n",
            "['KING', 'love']\n"
          ]
        }
      ]
    },
    {
      "cell_type": "code",
      "source": [
        "a={\"Name\":\"KING\",\"Age\":23,\"Company\":[\"Qconnect\",\"kunjvihar\"]}\n",
        "print(a[\"Name\"])\n",
        "a[\"Age\"]=22\n",
        "a\n",
        "print(a.keys())\n",
        "print(a.values())\n",
        "print(a.items())\n"
      ],
      "metadata": {
        "colab": {
          "base_uri": "https://localhost:8080/"
        },
        "id": "WV7BndZF14yd",
        "outputId": "1d47661d-23b0-4e06-f576-095541ecc672"
      },
      "execution_count": 20,
      "outputs": [
        {
          "output_type": "stream",
          "name": "stdout",
          "text": [
            "KING\n",
            "dict_keys(['Name', 'Age', 'Company'])\n",
            "dict_values(['KING', 22, ['Qconnect', 'kunjvihar']])\n",
            "dict_items([('Name', 'KING'), ('Age', 22), ('Company', ['Qconnect', 'kunjvihar'])])\n"
          ]
        }
      ]
    },
    {
      "cell_type": "code",
      "source": [
        "a = set()\n",
        "a.add(\"ANUJ\")\n",
        "a.add(\"OP\")\n",
        "a"
      ],
      "metadata": {
        "colab": {
          "base_uri": "https://localhost:8080/"
        },
        "id": "QBcA5N8s4lYZ",
        "outputId": "00ab6405-329f-4f92-d5e4-a652794bdb90"
      },
      "execution_count": 22,
      "outputs": [
        {
          "output_type": "execute_result",
          "data": {
            "text/plain": [
              "{'ANUJ', 'OP'}"
            ]
          },
          "metadata": {},
          "execution_count": 22
        }
      ]
    },
    {
      "cell_type": "code",
      "source": [
        "a = True\n",
        "if a:\n",
        "  print(\"++\")\n",
        "else:\n",
        "  print(\"--\")"
      ],
      "metadata": {
        "colab": {
          "base_uri": "https://localhost:8080/"
        },
        "id": "wbx-m80M5TVE",
        "outputId": "2176d13e-20e7-4881-f6f9-753368f785b4"
      },
      "execution_count": 23,
      "outputs": [
        {
          "output_type": "stream",
          "name": "stdout",
          "text": [
            "++\n"
          ]
        }
      ]
    },
    {
      "cell_type": "code",
      "source": [
        "a= 5\n",
        "b=7\n",
        "c=8\n",
        "if a<b:\n",
        "  print(\"a less than b\")\n",
        "elif c==b:\n",
        "  print(\"a is equal to b\")\n",
        "else:\n",
        "  print(\"a is not less than b\")"
      ],
      "metadata": {
        "colab": {
          "base_uri": "https://localhost:8080/"
        },
        "id": "YuPE3TRA6Sr9",
        "outputId": "1d081bfb-9f74-4db7-f6e8-c74072368fb2"
      },
      "execution_count": 24,
      "outputs": [
        {
          "output_type": "stream",
          "name": "stdout",
          "text": [
            "a less than b\n"
          ]
        }
      ]
    },
    {
      "cell_type": "code",
      "source": [],
      "metadata": {
        "id": "vscLmJAOx63R"
      },
      "execution_count": null,
      "outputs": []
    }
  ]
}