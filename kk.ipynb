{
  "nbformat": 4,
  "nbformat_minor": 0,
  "metadata": {
    "colab": {
      "provenance": [],
      "collapsed_sections": [],
      "authorship_tag": "ABX9TyMxI2LZk8wC/dmSa2vENC/f",
      "include_colab_link": true
    },
    "kernelspec": {
      "name": "python3",
      "display_name": "Python 3"
    },
    "language_info": {
      "name": "python"
    }
  },
  "cells": [
    {
      "cell_type": "markdown",
      "metadata": {
        "id": "view-in-github",
        "colab_type": "text"
      },
      "source": [
        "<a href=\"https://colab.research.google.com/github/AMBUJ-SURYANARAYAN-PANDEY/MoRaL0P/blob/main/kk.ipynb\" target=\"_parent\"><img src=\"https://colab.research.google.com/assets/colab-badge.svg\" alt=\"Open In Colab\"/></a>"
      ]
    },
    {
      "cell_type": "code",
      "execution_count": null,
      "metadata": {
        "colab": {
          "base_uri": "https://localhost:8080/"
        },
        "id": "dlT1v236IGlZ",
        "outputId": "f6e28ffa-c85c-4952-9b49-659846da5108"
      },
      "outputs": [
        {
          "output_type": "stream",
          "name": "stdout",
          "text": [
            "rac,tegnam,rats\n",
            "STAR,MANGET,CAR\n",
            "star,manget,car\n",
            "['star', 'manget', 'car']\n",
            "manget\n",
            "welcome to data scientist star,manget,car !\n"
          ]
        }
      ],
      "source": [
        "a = \"star,manget,car\" \n",
        "print(a[::-1])\n",
        "print(a.upper())    #upper n lower \n",
        "print(a.lower())\n",
        "b = a.split(',')    #split()\n",
        "print(b)\n",
        "print(b[1])\n",
        "print(f\"welcome to data scientist {a} !\")   #f to add string "
      ]
    },
    {
      "cell_type": "code",
      "source": [
        "a = [1,2,3,4,5]\n",
        "from random import shuffle   #shuffle\n",
        "shuffle(a)\n",
        "print(a)\n",
        "a.append(7)                  #append\n",
        "print(a)\n",
        "b = [\"champ\",21,99.5]\n",
        "b.reverse()                 #reverse\n",
        "print(b)\n",
        "c=[a,b]                     #addition as well as taking index [0][0]\n",
        "print(c)\n",
        "print(c[0])\n",
        "print(c[0][0])\n",
        "print(b)\n",
        "print(a,b)\n",
        "print(len(a))              #len(a)\n",
        "print(b[0])\n",
        "print(a[:2])\n",
        "print(b[:1])\n",
        "print(a+b)                #addition\n",
        "print(min(a))             #min n max\n",
        "print(max(a))\n",
        "print(a[0][0])            #calling index of index [0][0]\n",
        "\n",
        "\n",
        "\"\"\"print(a*b)\n",
        "print(a-b)\n",
        "print(a/b)\n",
        "print(a%b)\"\"\""
      ],
      "metadata": {
        "colab": {
          "base_uri": "https://localhost:8080/",
          "height": 495
        },
        "id": "Qpd3MFrdLBYy",
        "outputId": "e2c74066-0da1-4041-fd89-b521d083b5a4"
      },
      "execution_count": 17,
      "outputs": [
        {
          "output_type": "stream",
          "name": "stdout",
          "text": [
            "[4, 5, 2, 3, 1]\n",
            "[4, 5, 2, 3, 1, 7]\n",
            "[99.5, 21, 'champ']\n",
            "[[4, 5, 2, 3, 1, 7], [99.5, 21, 'champ']]\n",
            "[4, 5, 2, 3, 1, 7]\n",
            "4\n",
            "[99.5, 21, 'champ']\n",
            "[4, 5, 2, 3, 1, 7] [99.5, 21, 'champ']\n",
            "6\n",
            "99.5\n",
            "[4, 5]\n",
            "[99.5]\n",
            "[4, 5, 2, 3, 1, 7, 99.5, 21, 'champ']\n",
            "1\n",
            "7\n"
          ]
        },
        {
          "output_type": "error",
          "ename": "TypeError",
          "evalue": "ignored",
          "traceback": [
            "\u001b[0;31m---------------------------------------------------------------------------\u001b[0m",
            "\u001b[0;31mTypeError\u001b[0m                                 Traceback (most recent call last)",
            "\u001b[0;32m<ipython-input-17-284ea5fc6521>\u001b[0m in \u001b[0;36m<module>\u001b[0;34m\u001b[0m\n\u001b[1;32m     21\u001b[0m \u001b[0mprint\u001b[0m\u001b[0;34m(\u001b[0m\u001b[0mmin\u001b[0m\u001b[0;34m(\u001b[0m\u001b[0ma\u001b[0m\u001b[0;34m)\u001b[0m\u001b[0;34m)\u001b[0m\u001b[0;34m\u001b[0m\u001b[0;34m\u001b[0m\u001b[0m\n\u001b[1;32m     22\u001b[0m \u001b[0mprint\u001b[0m\u001b[0;34m(\u001b[0m\u001b[0mmax\u001b[0m\u001b[0;34m(\u001b[0m\u001b[0ma\u001b[0m\u001b[0;34m)\u001b[0m\u001b[0;34m)\u001b[0m\u001b[0;34m\u001b[0m\u001b[0;34m\u001b[0m\u001b[0m\n\u001b[0;32m---> 23\u001b[0;31m \u001b[0mprint\u001b[0m\u001b[0;34m(\u001b[0m\u001b[0ma\u001b[0m\u001b[0;34m[\u001b[0m\u001b[0;36m0\u001b[0m\u001b[0;34m]\u001b[0m\u001b[0;34m[\u001b[0m\u001b[0;36m0\u001b[0m\u001b[0;34m]\u001b[0m\u001b[0;34m)\u001b[0m\u001b[0;34m\u001b[0m\u001b[0;34m\u001b[0m\u001b[0m\n\u001b[0m\u001b[1;32m     24\u001b[0m \u001b[0;34m\u001b[0m\u001b[0m\n\u001b[1;32m     25\u001b[0m \u001b[0;34m\u001b[0m\u001b[0m\n",
            "\u001b[0;31mTypeError\u001b[0m: 'int' object is not subscriptable"
          ]
        }
      ]
    },
    {
      "cell_type": "code",
      "source": [
        "#@title For loop, if-elif, odd n even, while, break, range\n",
        "a =[1,2,3,4,5,6]    #for loop\n",
        "for i in a:\n",
        "  print(i)\n",
        "a = [i for i in 'KING']\n",
        "a\n",
        "a =[1,2,3,4]    # for {if-elif}\n",
        "print(\"\\n\")\n",
        "for i in a:     #odd n even\n",
        "  if i % 2 == 0:\n",
        "    print(i,\"Even no.\")\n",
        "  else:\n",
        "    print(i,\"Odd no.\")\n",
        "print(\"\\n\")\n",
        "for a in \"Hello World\":\n",
        "   print(a)\n",
        "print(\"\\n\")\n",
        "a = 0        #while\n",
        "while a < 10:\n",
        "  print(a)\n",
        "  a+=1\n",
        "print(\"\\n\")  #break the line(\"\\n\")\n",
        "for a in range(6):    #range\n",
        "  print(a)"
      ],
      "metadata": {
        "colab": {
          "base_uri": "https://localhost:8080/"
        },
        "id": "ZK3qye9H7Vb2",
        "outputId": "6109bacc-be98-473e-f946-b2820f5cf5b7"
      },
      "execution_count": 49,
      "outputs": [
        {
          "output_type": "stream",
          "name": "stdout",
          "text": [
            "1\n",
            "2\n",
            "3\n",
            "4\n",
            "5\n",
            "6\n",
            "\n",
            "\n",
            "1 Odd no.\n",
            "2 Even no.\n",
            "3 Odd no.\n",
            "4 Even no.\n",
            "\n",
            "\n",
            "H\n",
            "e\n",
            "l\n",
            "l\n",
            "o\n",
            " \n",
            "W\n",
            "o\n",
            "r\n",
            "l\n",
            "d\n",
            "\n",
            "\n",
            "0\n",
            "1\n",
            "2\n",
            "3\n",
            "4\n",
            "5\n",
            "6\n",
            "7\n",
            "8\n",
            "9\n",
            "\n",
            "\n",
            "0\n",
            "1\n",
            "2\n",
            "3\n",
            "4\n",
            "5\n"
          ]
        }
      ]
    },
    {
      "cell_type": "markdown",
      "source": [
        "#while break n continue"
      ],
      "metadata": {
        "id": "L_ujfOU_DC7p"
      }
    },
    {
      "cell_type": "code",
      "source": [
        "a = 0\n",
        "while a < 10:    #while B & C\n",
        "  print(a)\n",
        "  a+=1\n",
        "  if a ==5:\n",
        "    print(\"a is equal to 5\")\n",
        "    break\n",
        "  else:\n",
        "    print(\"continueee\")\n",
        "    continue"
      ],
      "metadata": {
        "colab": {
          "base_uri": "https://localhost:8080/"
        },
        "id": "K_oXQTFnDMeZ",
        "outputId": "7d04c12f-5c68-47d0-e654-b0b72953c848"
      },
      "execution_count": 44,
      "outputs": [
        {
          "output_type": "stream",
          "name": "stdout",
          "text": [
            "0\n",
            "continueee\n",
            "1\n",
            "continueee\n",
            "2\n",
            "continueee\n",
            "3\n",
            "continueee\n",
            "4\n",
            "a is equal to 5\n"
          ]
        }
      ]
    },
    {
      "cell_type": "markdown",
      "source": [
        "#Range \n",
        "#Range(\"start point,End,increment(++))\n",
        "#Range(\"start,End,--)\n",
        "#Range(\"square,range\")\n",
        "#Range if "
      ],
      "metadata": {
        "id": "mhSvpPKOEPrG"
      }
    },
    {
      "cell_type": "code",
      "source": [
        "for a in range(6):         #Range\n",
        "  print(a)\n",
        "print(\"\\n\")\n",
        "for a in range(1,12,2):    #Range(\"S,E,++\")\n",
        "  print(a)\n",
        "print(\"\\n\")\n",
        "for a in  range(14,1,-2):  #Range(\"S,E,--\") \n",
        "  print(a)\n",
        "print(\"\\n\")\n",
        "a = [i**2 for i in range(0,6)]  #square,range\n",
        "a\n",
        "print(\"\\n\")\n",
        "a = [i for i in range(10) if i % 2 == 0]\n",
        "print(a) \n",
        "print(\"\\n\")"
      ],
      "metadata": {
        "colab": {
          "base_uri": "https://localhost:8080/"
        },
        "id": "-sNCyMrvE4zY",
        "outputId": "be9fd3e3-3a3d-4de8-bc4b-7150e72b7d2d"
      },
      "execution_count": 56,
      "outputs": [
        {
          "output_type": "stream",
          "name": "stdout",
          "text": [
            "0\n",
            "1\n",
            "2\n",
            "3\n",
            "4\n",
            "5\n",
            "\n",
            "\n",
            "1\n",
            "3\n",
            "5\n",
            "7\n",
            "9\n",
            "11\n",
            "\n",
            "\n",
            "14\n",
            "12\n",
            "10\n",
            "8\n",
            "6\n",
            "4\n",
            "2\n",
            "\n",
            "\n",
            "\n",
            "\n",
            "[0, 2, 4, 6, 8]\n",
            "\n",
            "\n"
          ]
        }
      ]
    },
    {
      "cell_type": "markdown",
      "source": [
        "#Enumerate-To track no. of iteration in the loop,without working with variable increment "
      ],
      "metadata": {
        "id": "WBIlyLBqMMnC"
      }
    },
    {
      "cell_type": "code",
      "source": [
        "a = 0\n",
        "for i,a in enumerate(\"Hello King\"):\n",
        "  print(i,a)"
      ],
      "metadata": {
        "colab": {
          "base_uri": "https://localhost:8080/"
        },
        "id": "dzIX2sP9MmKa",
        "outputId": "92393714-c7e3-4bd6-813f-32c7422cb78a"
      },
      "execution_count": 61,
      "outputs": [
        {
          "output_type": "stream",
          "name": "stdout",
          "text": [
            "0 H\n",
            "1 e\n",
            "2 l\n",
            "3 l\n",
            "4 o\n",
            "5  \n",
            "6 K\n",
            "7 i\n",
            "8 n\n",
            "9 g\n"
          ]
        }
      ]
    },
    {
      "cell_type": "markdown",
      "source": [
        "#Zip - Creating a tuples 2 list"
      ],
      "metadata": {
        "id": "tJrbeN4TNDTx"
      }
    },
    {
      "cell_type": "code",
      "source": [
        "a = [\"Name\",\"Age\",\"Country\"]\n",
        "b = [\"KING\",22,\"India\"]\n",
        "list(zip(a,b))"
      ],
      "metadata": {
        "colab": {
          "base_uri": "https://localhost:8080/"
        },
        "id": "jSkplo3hNQ1i",
        "outputId": "38d7279b-acfc-4930-b0cd-88521445bdc4"
      },
      "execution_count": 62,
      "outputs": [
        {
          "output_type": "execute_result",
          "data": {
            "text/plain": [
              "[('Name', 'KING'), ('Age', 22), ('Country', 'India')]"
            ]
          },
          "metadata": {},
          "execution_count": 62
        }
      ]
    },
    {
      "cell_type": "code",
      "source": [],
      "metadata": {
        "id": "AUL3tNSWNO69"
      },
      "execution_count": null,
      "outputs": []
    },
    {
      "cell_type": "code",
      "source": [
        "#@title DICTIONARY-for\n",
        "a = {\"Name\":\"ANUJ\",\"Age\":\"22\",\"Company\":['KING','love']}  #dictionary-for\n",
        "for k,v in a.items():\n",
        "   print(k)\n",
        "   #print(v)"
      ],
      "metadata": {
        "colab": {
          "base_uri": "https://localhost:8080/"
        },
        "id": "9F8-E-PE9U3b",
        "outputId": "f8697205-4e75-46e9-d902-62af0e720660"
      },
      "execution_count": 47,
      "outputs": [
        {
          "output_type": "stream",
          "name": "stdout",
          "text": [
            "Name\n",
            "Age\n",
            "Company\n"
          ]
        }
      ]
    },
    {
      "cell_type": "code",
      "source": [
        "#@title dictionary-for\n",
        "a = {\"Name\":\"ANUJ\",\"Age\":\"22\",\"Company\":['KING','love']}   #dictionary-for\n",
        "for k,v in a.items():\n",
        "   print(k)\n",
        "   print(v)"
      ],
      "metadata": {
        "colab": {
          "base_uri": "https://localhost:8080/"
        },
        "outputId": "f9ac3ae1-c633-44c9-8db0-09ab50d0377a",
        "id": "lQINlbtO_QsX"
      },
      "execution_count": 40,
      "outputs": [
        {
          "output_type": "stream",
          "name": "stdout",
          "text": [
            "Name\n",
            "ANUJ\n",
            "Age\n",
            "22\n",
            "Company\n",
            "['KING', 'love']\n"
          ]
        }
      ]
    },
    {
      "cell_type": "code",
      "source": [
        "#@title Dictionary(\"keys,values,items\")\n",
        "a={\"Name\":\"KING\",\"Age\":23,\"Company\":[\"Qconnect\",\"kunjvihar\"]}   #dictionarty (\"keys,items,values\")\n",
        "print(a[\"Name\"])\n",
        "a[\"Age\"]=22\n",
        "a\n",
        "print(a.keys())\n",
        "print(a.values())\n",
        "print(a.items())\n"
      ],
      "metadata": {
        "colab": {
          "base_uri": "https://localhost:8080/"
        },
        "id": "WV7BndZF14yd",
        "outputId": "1d47661d-23b0-4e06-f576-095541ecc672"
      },
      "execution_count": 20,
      "outputs": [
        {
          "output_type": "stream",
          "name": "stdout",
          "text": [
            "KING\n",
            "dict_keys(['Name', 'Age', 'Company'])\n",
            "dict_values(['KING', 22, ['Qconnect', 'kunjvihar']])\n",
            "dict_items([('Name', 'KING'), ('Age', 22), ('Company', ['Qconnect', 'kunjvihar'])])\n"
          ]
        }
      ]
    },
    {
      "cell_type": "code",
      "source": [
        "#@title Set()\n",
        "a = set()     #set()\n",
        "a.add(\"ANUJ\")\n",
        "a.add(\"OP\")\n",
        "a"
      ],
      "metadata": {
        "colab": {
          "base_uri": "https://localhost:8080/"
        },
        "id": "QBcA5N8s4lYZ",
        "outputId": "00ab6405-329f-4f92-d5e4-a652794bdb90"
      },
      "execution_count": 22,
      "outputs": [
        {
          "output_type": "execute_result",
          "data": {
            "text/plain": [
              "{'ANUJ', 'OP'}"
            ]
          },
          "metadata": {},
          "execution_count": 22
        }
      ]
    },
    {
      "cell_type": "code",
      "source": [
        "#@title if - else, boolean(T{1} / F{0})\n",
        "a = True    #if -else (boolean true n fale)\n",
        "if a:\n",
        "  print(\"++\")\n",
        "else:\n",
        "  print(\"--\")\n",
        "\n",
        "\n",
        "a = 6     #Boolean (T(1) / F (0))\n",
        "b = 7\n",
        "print(a<b)\n",
        "print(a>b)"
      ],
      "metadata": {
        "colab": {
          "base_uri": "https://localhost:8080/"
        },
        "id": "wbx-m80M5TVE",
        "outputId": "2176d13e-20e7-4881-f6f9-753368f785b4"
      },
      "execution_count": 23,
      "outputs": [
        {
          "output_type": "stream",
          "name": "stdout",
          "text": [
            "++\n"
          ]
        }
      ]
    },
    {
      "cell_type": "code",
      "source": [
        "#@title if-elif \n",
        "a= 5      # if -elif condition\n",
        "b=7\n",
        "c=8\n",
        "if a<b:\n",
        "  print(\"a less than b\")\n",
        "elif c==b:\n",
        "  print(\"a is equal to b\")\n",
        "else:\n",
        "  print(\"a is not less than b\")"
      ],
      "metadata": {
        "colab": {
          "base_uri": "https://localhost:8080/"
        },
        "id": "YuPE3TRA6Sr9",
        "outputId": "1d081bfb-9f74-4db7-f6e8-c74072368fb2"
      },
      "execution_count": 24,
      "outputs": [
        {
          "output_type": "stream",
          "name": "stdout",
          "text": [
            "a less than b\n"
          ]
        }
      ]
    },
    {
      "cell_type": "code",
      "source": [],
      "metadata": {
        "id": "vscLmJAOx63R"
      },
      "execution_count": null,
      "outputs": []
    }
  ]
}