{
  "nbformat": 4,
  "nbformat_minor": 0,
  "metadata": {
    "colab": {
      "provenance": [],
      "collapsed_sections": [],
      "authorship_tag": "ABX9TyNpVhrNzGxnMuBDYmb3m/Q7",
      "include_colab_link": true
    },
    "kernelspec": {
      "name": "python3",
      "display_name": "Python 3"
    },
    "language_info": {
      "name": "python"
    }
  },
  "cells": [
    {
      "cell_type": "markdown",
      "metadata": {
        "id": "view-in-github",
        "colab_type": "text"
      },
      "source": [
        "<a href=\"https://colab.research.google.com/github/AMBUJ-SURYANARAYAN-PANDEY/MoRaL0P/blob/main/LRFS.ipynb\" target=\"_parent\"><img src=\"https://colab.research.google.com/assets/colab-badge.svg\" alt=\"Open In Colab\"/></a>"
      ]
    },
    {
      "cell_type": "markdown",
      "source": [
        "#CODE LINEAR REGRESSION FROM SCRATCH\n",
        "Implementing linear regression from scratch using python \n"
      ],
      "metadata": {
        "id": "9pk2s43NDb-h"
      }
    },
    {
      "cell_type": "markdown",
      "source": [
        "#DATA(MACHINE LEARNING PART)\n",
        "\n",
        "DEFINING THE FUNCTION FOR LOADING DATASET"
      ],
      "metadata": {
        "id": "jT1V49ZMD9CL"
      }
    },
    {
      "cell_type": "code",
      "source": [
        "#LOADING DATASET IN PYTHON(LINEAR REGRESSION\n",
        "def load_data(filename):\n",
        "  df = pd.read_csv(filename, sep= \" \",index_col = False)\n",
        "  df.columns = [\"housesize\", \"rooms\", \"price\"]\n",
        "  data + np.array(df, dtype= float)\n",
        "  plot_data(data[:,:2], data[:, -1])     #(x,y)func plotting data \n",
        "  normalize(data)                        #normalizing data (raw dataset)  \n",
        "  return data[:,:2], data[:, -1]         #returning (x,y) data \n",
        "\n"
      ],
      "metadata": {
        "id": "D6l9kRzvEYfH"
      },
      "execution_count": 1,
      "outputs": []
    },
    {
      "cell_type": "markdown",
      "source": [
        "#Feature Normalization\n",
        "Normalization func"
      ],
      "metadata": {
        "id": "y5EtBLZSHcGK"
      }
    },
    {
      "cell_type": "code",
      "source": [
        "#Normalization func\n",
        "def normalize(data):\n",
        "  for i in range(0,data.shape[1]-1):\n",
        "     data[:,i] = ((data[:,i] - np.mean(data[:,i]))/np.std(data[:,i]))  #mean and std(standard deviation) used "
      ],
      "metadata": {
        "id": "mxmQn1YnIE0U"
      },
      "execution_count": 5,
      "outputs": []
    },
    {
      "cell_type": "markdown",
      "source": [
        "#Plotting Data \n",
        "plot_data func"
      ],
      "metadata": {
        "id": "lEEJDUrfJHpF"
      }
    },
    {
      "cell_type": "code",
      "source": [
        "#plot_data func(plotting data func)\n",
        "def plot_data(x,y):\n",
        "   plt.xlabel(\"housesize\")\n",
        "   plt.ylabel(\"price\")\n",
        "   plt.plot(x[:,0], y, \"bo\")\n",
        "   plt.show()\n"
      ],
      "metadata": {
        "id": "0WZe6QowKJ_q"
      },
      "execution_count": 6,
      "outputs": []
    },
    {
      "cell_type": "markdown",
      "source": [
        "#HYPOTHESIS\n",
        "hypothesis func"
      ],
      "metadata": {
        "id": "yDITPCGvKp6c"
      }
    },
    {
      "cell_type": "code",
      "source": [
        "#Hypothesis func \n",
        "def h(x,theta):\n",
        "  return np.matmul(x,theta)"
      ],
      "metadata": {
        "id": "gOS8RtiSK639"
      },
      "execution_count": 10,
      "outputs": []
    },
    {
      "cell_type": "markdown",
      "source": [
        "#Cost Function\n",
        "cost_func"
      ],
      "metadata": {
        "id": "22Fp0mi0LTOE"
      }
    },
    {
      "cell_type": "code",
      "source": [
        "#Cost function\n",
        "def cost_func(x,y,theta):\n",
        "  return(h(x,theta)-y).T@(h(x,theta))/(2*y.shape[0])"
      ],
      "metadata": {
        "id": "vU4nXSglLaiD"
      },
      "execution_count": 12,
      "outputs": []
    },
    {
      "cell_type": "markdown",
      "source": [
        "#Gradient Descent \n",
        "gradient_descent func"
      ],
      "metadata": {
        "id": "ahbL1MLJL6pO"
      }
    },
    {
      "cell_type": "code",
      "source": [
        "#gradient_descent func\n",
        "def gradient_descent(x,y,theta, learning_rate = 0.1, num_epochs = 10):\n",
        "  m = x .shape[0]\n",
        "  J_all = []\n",
        "\n",
        "  for _ in range(num_epochs):\n",
        "    h_x = h(x,theta)\n",
        "    cost_ = (1/m)*(x.T@(h_x-y))\n",
        "    theta = theta - (learning_rate)*cost_\n",
        "    J_all.append(cost_func(x,y,theta))\n",
        "  return theta, J_all"
      ],
      "metadata": {
        "id": "_u7qFV0oMK9a"
      },
      "execution_count": 13,
      "outputs": []
    },
    {
      "cell_type": "markdown",
      "source": [
        "#Putting  it all together\n",
        "func_calls"
      ],
      "metadata": {
        "id": "gIwLjlziNrzU"
      }
    },
    {
      "cell_type": "code",
      "source": [
        "#func_calls\n",
        "x,y = load_data(\"house_price_data.txt\")\n",
        "y = np.reshape(y, (46,1))\n",
        "x = np.hstack((np.ones((x.shape[0],1)), x))\n",
        "theta = np.zeros((x.shape[1], 1))\n",
        "learning_rate = 0.1\n",
        "num_epochs = 50\n",
        "theta, J_all = gradient_descent(x, y, theta, learning_rate, num_epochs)\n",
        "J = cost_function(x, y, theta)\n",
        "print(\"Cost: \", J)\n",
        "print(\"Parameters: \", theta)\n",
        "\n",
        "#for testing and plotting cost \n",
        "n_epochs = []\n",
        "jplot = []\n",
        "count = 0\n",
        "for i in J_all:\n",
        "\tjplot.append(i[0][0])\n",
        "\tn_epochs.append(count)\n",
        "\tcount += 1\n",
        "jplot = np.array(jplot)\n",
        "n_epochs = np.array(n_epochs)\n",
        "plot_cost(jplot, n_epochs)\n",
        "\n",
        "test(theta, [1600, 2])"
      ],
      "metadata": {
        "id": "tC1xiGnBS5yD"
      },
      "execution_count": null,
      "outputs": []
    },
    {
      "cell_type": "markdown",
      "source": [
        "#Plotting cost \n",
        "plot_cost func"
      ],
      "metadata": {
        "id": "edTRLmePTDc0"
      }
    },
    {
      "cell_type": "code",
      "source": [
        "#plot_cost func \n",
        "def plot_cost(J_all, num_epochs):\n",
        "      plt.xlabel(\"Epochs\")\n",
        "      plt.ylabel(\"Cost\")\n",
        "      plt.plot(num_epochs, J_all, 'm', linewidth = \"5\")\n",
        "      plt.show()"
      ],
      "metadata": {
        "id": "Dep-Xr-ZTMtm"
      },
      "execution_count": 25,
      "outputs": []
    },
    {
      "cell_type": "markdown",
      "source": [
        "#Test\n",
        "# test func"
      ],
      "metadata": {
        "id": "YMEku45iUb7K"
      }
    },
    {
      "cell_type": "code",
      "source": [
        "#test func\n",
        "def test(theta, x):\n",
        "  x[0] = (x[0] - mu[0])/std[0]\n",
        "  x[1] = (x[1] - mu[1]) / std[1]\n",
        "\n",
        "  y = theta[0] + theta [1]*x[0] + theta[2]*x[1]\n",
        "  print(\"Price of house: \",y)"
      ],
      "metadata": {
        "id": "WnqtRFs4Ug9p"
      },
      "execution_count": 28,
      "outputs": []
    },
    {
      "cell_type": "markdown",
      "source": [
        "#THE COMPLETE CODE OF LINEAR REGRESSION FROM SCRATCH IN PYTHON "
      ],
      "metadata": {
        "id": "8dSYSrQ8V8Yp"
      }
    },
    {
      "cell_type": "code",
      "source": [
        "#complete code\n",
        "import numpy as np\n",
        "import matplotlib.pyplot as plt\n",
        "import pandas as pd\n",
        "\n",
        "#variables to store mean and standard deviation for each feature\n",
        "mu = []\n",
        "std = []\n",
        "\n",
        "def load_data(filename):\n",
        "\tdf = pd.read_csv(filename, sep=\",\", index_col=False)\n",
        "\tdf.columns = [\"housesize\", \"rooms\", \"price\"]\n",
        "\tdata = np.array(df, dtype=float)\n",
        "\tplot_data(data[:,:2], data[:, -1])\n",
        "\tnormalize(data)\n",
        "\treturn data[:,:2], data[:, -1]\n",
        "\n",
        "def plot_data(x, y):\n",
        "\tplt.xlabel('house size')\n",
        "\tplt.ylabel('price')\n",
        "\tplt.plot(x[:,0], y, 'bo')\n",
        "\tplt.show()\n",
        "\n",
        "def normalize(data):\n",
        "\tfor i in range(0,data.shape[1]-1):\n",
        "\t\tdata[:,i] = ((data[:,i] - np.mean(data[:,i]))/np.std(data[:, i]))\n",
        "\t\tmu.append(np.mean(data[:,i]))\n",
        "\t\tstd.append(np.std(data[:, i]))\n",
        "\n",
        "\n",
        "def h(x,theta):\n",
        "\treturn np.matmul(x, theta)\n",
        "\n",
        "def cost_function(x, y, theta):\n",
        "\treturn ((h(x, theta)-y).T@(h(x, theta)-y))/(2*y.shape[0])\n",
        "\n",
        "def gradient_descent(x, y, theta, learning_rate=0.1, num_epochs=10):\n",
        "\tm = x.shape[0]\n",
        "\tJ_all = []\n",
        "\t\n",
        "\tfor _ in range(num_epochs):\n",
        "\t\th_x = h(x, theta)\n",
        "\t\tcost_ = (1/m)*(x.T@(h_x - y))\n",
        "\t\ttheta = theta - (learning_rate)*cost_\n",
        "\t\tJ_all.append(cost_function(x, y, theta))\n",
        "\n",
        "\treturn theta, J_all \n",
        "\n",
        "def plot_cost(J_all, num_epochs):\n",
        "\tplt.xlabel('Epochs')\n",
        "\tplt.ylabel('Cost')\n",
        "\tplt.plot(num_epochs, J_all, 'm', linewidth = \"5\")\n",
        "\tplt.show()\n",
        "\n",
        "def test(theta, x):\n",
        "\tx[0] = (x[0] - mu[0])/std[0]\n",
        "\tx[1] = (x[1] - mu[1])/std[1]\n",
        "\n",
        "\ty = theta[0] + theta[1]*x[0] + theta[2]*x[1]\n",
        "\tprint(\"Price of house: \", y)\n",
        "\n",
        "x,y = load_data(\"house_price_data.txt\")\n",
        "y = np.reshape(y, (46,1))\n",
        "x = np.hstack((np.ones((x.shape[0],1)), x))\n",
        "theta = np.zeros((x.shape[1], 1))\n",
        "learning_rate = 0.1\n",
        "num_epochs = 50\n",
        "theta, J_all = gradient_descent(x, y, theta, learning_rate, num_epochs)\n",
        "J = cost_function(x, y, theta)\n",
        "print(\"Cost: \", J)\n",
        "print(\"Parameters: \", theta)\n",
        "\n",
        "#for testing and plotting cost \n",
        "n_epochs = []\n",
        "jplot = []\n",
        "count = 0\n",
        "for i in J_all:\n",
        "\tjplot.append(i[0][0])\n",
        "\tn_epochs.append(count)\n",
        "\tcount += 1\n",
        "jplot = np.array(jplot)\n",
        "n_epochs = np.array(n_epochs)\n",
        "plot_cost(jplot, n_epochs)\n",
        "\n",
        "test(theta, [1600, 3])"
      ],
      "metadata": {
        "id": "BTygoOAYXIYJ"
      },
      "execution_count": null,
      "outputs": []
    }
  ]
}