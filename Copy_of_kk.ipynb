{
  "nbformat": 4,
  "nbformat_minor": 0,
  "metadata": {
    "colab": {
      "provenance": [],
      "collapsed_sections": [],
      "authorship_tag": "ABX9TyNVNmCMRMyC/ACinNcoJ6+F",
      "include_colab_link": true
    },
    "kernelspec": {
      "name": "python3",
      "display_name": "Python 3"
    },
    "language_info": {
      "name": "python"
    }
  },
  "cells": [
    {
      "cell_type": "markdown",
      "metadata": {
        "id": "view-in-github",
        "colab_type": "text"
      },
      "source": [
        "<a href=\"https://colab.research.google.com/github/AMBUJ-SURYANARAYAN-PANDEY/MoRaL0P/blob/main/Copy_of_kk.ipynb\" target=\"_parent\"><img src=\"https://colab.research.google.com/assets/colab-badge.svg\" alt=\"Open In Colab\"/></a>"
      ]
    },
    {
      "cell_type": "code",
      "execution_count": null,
      "metadata": {
        "colab": {
          "base_uri": "https://localhost:8080/"
        },
        "id": "dlT1v236IGlZ",
        "outputId": "f6e28ffa-c85c-4952-9b49-659846da5108"
      },
      "outputs": [
        {
          "output_type": "stream",
          "name": "stdout",
          "text": [
            "rac,tegnam,rats\n",
            "STAR,MANGET,CAR\n",
            "star,manget,car\n",
            "['star', 'manget', 'car']\n",
            "manget\n",
            "welcome to data scientist star,manget,car !\n"
          ]
        }
      ],
      "source": [
        "a = \"star,manget,car\" \n",
        "print(a[::-1])\n",
        "print(a.upper())    #upper n lower \n",
        "print(a.lower())\n",
        "b = a.split(',')    #split()\n",
        "print(b)\n",
        "print(b[1])\n",
        "print(f\"welcome to data scientist {a} !\")   #f to add string "
      ]
    },
    {
      "cell_type": "markdown",
      "source": [
        "#Function\n",
        "\n",
        "#Intializing and Calling function"
      ],
      "metadata": {
        "id": "8B_HUMQNg6Hf"
      }
    },
    {
      "cell_type": "code",
      "source": [
        "def welcome():  # function(def,init,call)\n",
        "  print(\"hello ambuj ias officer !!!\")\n",
        "  \n",
        "  "
      ],
      "metadata": {
        "id": "lTuHt-TthST7"
      },
      "execution_count": null,
      "outputs": []
    },
    {
      "cell_type": "code",
      "source": [
        "welcome()"
      ],
      "metadata": {
        "colab": {
          "base_uri": "https://localhost:8080/"
        },
        "id": "WR1C8bYij7ez",
        "outputId": "167f2c65-08de-4ec4-e4c3-f8fd8c742340"
      },
      "execution_count": null,
      "outputs": [
        {
          "output_type": "stream",
          "name": "stdout",
          "text": [
            "hello ambuj ias officer !!!\n"
          ]
        }
      ]
    },
    {
      "cell_type": "markdown",
      "source": [
        "#Intializing and calling function with Argument"
      ],
      "metadata": {
        "id": "JgiSHMNqkCWC"
      }
    },
    {
      "cell_type": "code",
      "source": [
        "def welcome(a):   #arguement\n",
        "  print(\"King {0},anuj!!!\".format(a))\n",
        "welcome(\"love\")"
      ],
      "metadata": {
        "id": "wRGg6sGckOye"
      },
      "execution_count": null,
      "outputs": []
    },
    {
      "cell_type": "code",
      "source": [
        "a = [1,2,3,4,5]\n",
        "from random import shuffle   #shuffle\n",
        "shuffle(a)\n",
        "print(a)\n",
        "a.append(7)                  #append\n",
        "print(a)\n",
        "b = [\"champ\",21,99.5]\n",
        "b.reverse()                 #reverse\n",
        "print(b)\n",
        "c=[a,b]                     #addition as well as taking index [0][0]\n",
        "print(c)\n",
        "print(c[0])\n",
        "print(c[0][0])\n",
        "print(b)\n",
        "print(a,b)\n",
        "print(len(a))              #len(a)\n",
        "print(b[0])\n",
        "print(a[:2])\n",
        "print(b[:1])\n",
        "print(a+b)                #addition\n",
        "print(min(a))             #min n max\n",
        "print(max(a))\n",
        "print(a[0][0])            #calling index of index [0][0]\n",
        "\n",
        "\n",
        "\"\"\"print(a*b)\n",
        "print(a-b)\n",
        "print(a/b)\n",
        "print(a%b)\"\"\""
      ],
      "metadata": {
        "colab": {
          "base_uri": "https://localhost:8080/",
          "height": 495
        },
        "id": "Qpd3MFrdLBYy",
        "outputId": "e2c74066-0da1-4041-fd89-b521d083b5a4"
      },
      "execution_count": null,
      "outputs": [
        {
          "output_type": "stream",
          "name": "stdout",
          "text": [
            "[4, 5, 2, 3, 1]\n",
            "[4, 5, 2, 3, 1, 7]\n",
            "[99.5, 21, 'champ']\n",
            "[[4, 5, 2, 3, 1, 7], [99.5, 21, 'champ']]\n",
            "[4, 5, 2, 3, 1, 7]\n",
            "4\n",
            "[99.5, 21, 'champ']\n",
            "[4, 5, 2, 3, 1, 7] [99.5, 21, 'champ']\n",
            "6\n",
            "99.5\n",
            "[4, 5]\n",
            "[99.5]\n",
            "[4, 5, 2, 3, 1, 7, 99.5, 21, 'champ']\n",
            "1\n",
            "7\n"
          ]
        },
        {
          "output_type": "error",
          "ename": "TypeError",
          "evalue": "ignored",
          "traceback": [
            "\u001b[0;31m---------------------------------------------------------------------------\u001b[0m",
            "\u001b[0;31mTypeError\u001b[0m                                 Traceback (most recent call last)",
            "\u001b[0;32m<ipython-input-17-284ea5fc6521>\u001b[0m in \u001b[0;36m<module>\u001b[0;34m\u001b[0m\n\u001b[1;32m     21\u001b[0m \u001b[0mprint\u001b[0m\u001b[0;34m(\u001b[0m\u001b[0mmin\u001b[0m\u001b[0;34m(\u001b[0m\u001b[0ma\u001b[0m\u001b[0;34m)\u001b[0m\u001b[0;34m)\u001b[0m\u001b[0;34m\u001b[0m\u001b[0;34m\u001b[0m\u001b[0m\n\u001b[1;32m     22\u001b[0m \u001b[0mprint\u001b[0m\u001b[0;34m(\u001b[0m\u001b[0mmax\u001b[0m\u001b[0;34m(\u001b[0m\u001b[0ma\u001b[0m\u001b[0;34m)\u001b[0m\u001b[0;34m)\u001b[0m\u001b[0;34m\u001b[0m\u001b[0;34m\u001b[0m\u001b[0m\n\u001b[0;32m---> 23\u001b[0;31m \u001b[0mprint\u001b[0m\u001b[0;34m(\u001b[0m\u001b[0ma\u001b[0m\u001b[0;34m[\u001b[0m\u001b[0;36m0\u001b[0m\u001b[0;34m]\u001b[0m\u001b[0;34m[\u001b[0m\u001b[0;36m0\u001b[0m\u001b[0;34m]\u001b[0m\u001b[0;34m)\u001b[0m\u001b[0;34m\u001b[0m\u001b[0;34m\u001b[0m\u001b[0m\n\u001b[0m\u001b[1;32m     24\u001b[0m \u001b[0;34m\u001b[0m\u001b[0m\n\u001b[1;32m     25\u001b[0m \u001b[0;34m\u001b[0m\u001b[0m\n",
            "\u001b[0;31mTypeError\u001b[0m: 'int' object is not subscriptable"
          ]
        }
      ]
    },
    {
      "cell_type": "markdown",
      "source": [
        "#Print & Run"
      ],
      "metadata": {
        "id": "X836ULySpgnJ"
      }
    },
    {
      "cell_type": "code",
      "source": [
        "def add(a,b):\n",
        "  add = a + b \n",
        "  print(\"Sum  of {0} & {1} is {2}\".format(a,b,add))\n"
      ],
      "metadata": {
        "id": "IYNoEkJ9qwRs"
      },
      "execution_count": null,
      "outputs": []
    },
    {
      "cell_type": "code",
      "source": [
        "def addR(a,b):\n",
        "  add = a + b \n",
        "  return add"
      ],
      "metadata": {
        "id": "PhAHVkAbqQfe"
      },
      "execution_count": null,
      "outputs": []
    },
    {
      "cell_type": "code",
      "source": [
        "add(45,5)"
      ],
      "metadata": {
        "colab": {
          "base_uri": "https://localhost:8080/"
        },
        "id": "U-BdqAXCrOfF",
        "outputId": "1f26c5f9-2ed7-4811-8931-755bc7b6c004"
      },
      "execution_count": null,
      "outputs": [
        {
          "output_type": "stream",
          "name": "stdout",
          "text": [
            "Sum  of 45 & 5 is 50\n"
          ]
        }
      ]
    },
    {
      "cell_type": "markdown",
      "source": [
        "#Practice Prject - Extracting Prime no."
      ],
      "metadata": {
        "id": "9nGa69b_sBb4"
      }
    },
    {
      "cell_type": "code",
      "source": [
        "def check(numbers):\n",
        "  primeNumber = []\n",
        "  for number in numbers:\n",
        "    if number > 1:\n",
        "      for i in range(2, int(number/2)+1):\n",
        "        if (number % i ) == 0:   #number is fully divisible by 2 then it cannot be prime number\n",
        "            print(number, \"Not a Prime no.\")\n",
        "            break \n",
        "        else:\n",
        "           print(number, \"Prime no.\")\n",
        "           primeNumber.append(number)\n",
        "    else:\n",
        "       pass\n",
        "  return primeNumber\n",
        "\n"
      ],
      "metadata": {
        "id": "6e130vvWsPuq"
      },
      "execution_count": null,
      "outputs": []
    },
    {
      "cell_type": "code",
      "source": [
        "check([2,3,4,5,6])"
      ],
      "metadata": {
        "colab": {
          "base_uri": "https://localhost:8080/"
        },
        "id": "vcjZX81WzSf6",
        "outputId": "bc55f63a-8fae-407b-a88c-4814fdf0908b"
      },
      "execution_count": null,
      "outputs": [
        {
          "output_type": "stream",
          "name": "stdout",
          "text": [
            "4 Not a Prime no.\n",
            "5 Prime no.\n",
            "6 Not a Prime no.\n"
          ]
        },
        {
          "output_type": "execute_result",
          "data": {
            "text/plain": [
              "[5]"
            ]
          },
          "metadata": {},
          "execution_count": 79
        }
      ]
    },
    {
      "cell_type": "markdown",
      "source": [
        "#Map function - Map a function to an iterable object"
      ],
      "metadata": {
        "id": "yD2PJeQlz9Ou"
      }
    },
    {
      "cell_type": "code",
      "source": [
        "def cubefn(num):      #cube functtion\n",
        "  return num**3"
      ],
      "metadata": {
        "id": "KhyLOqHY0GXk"
      },
      "execution_count": null,
      "outputs": []
    },
    {
      "cell_type": "code",
      "source": [
        "a = [1,2,3,4,5]\n",
        "list(map(cubefn,a))    #cube fn with map"
      ],
      "metadata": {
        "colab": {
          "base_uri": "https://localhost:8080/"
        },
        "id": "5Yo4BsUg0RI2",
        "outputId": "d1e2aa55-adbd-4cfd-e8fd-442316509cbd"
      },
      "execution_count": null,
      "outputs": [
        {
          "output_type": "execute_result",
          "data": {
            "text/plain": [
              "[1, 8, 27, 64, 125]"
            ]
          },
          "metadata": {},
          "execution_count": 76
        }
      ]
    },
    {
      "cell_type": "markdown",
      "source": [
        "#Filter function - Yields items of iterable in which function is  true"
      ],
      "metadata": {
        "id": "53s-7jEl0t4u"
      }
    },
    {
      "cell_type": "code",
      "source": [
        "def evenfn(num):\n",
        "  return num % 2 == 0"
      ],
      "metadata": {
        "id": "ubnomE5B1XWR"
      },
      "execution_count": null,
      "outputs": []
    },
    {
      "cell_type": "code",
      "source": [
        "a = [0,1,2,3,4,5,6,7,8,9,10]\n",
        "#print(list(map(evenfn,a)))\n",
        "print(list(filter(evenfn,a)))"
      ],
      "metadata": {
        "colab": {
          "base_uri": "https://localhost:8080/"
        },
        "id": "WdeffdNf1e1I",
        "outputId": "d751b7b5-ed05-4324-d5c4-212ec3fe30e6"
      },
      "execution_count": null,
      "outputs": [
        {
          "output_type": "stream",
          "name": "stdout",
          "text": [
            "[0, 2, 4, 6, 8, 10]\n"
          ]
        }
      ]
    },
    {
      "cell_type": "code",
      "source": [
        "a = [0,1,2,3,4,5,6,7,8,9,10]\n",
        "print(list(map(evenfn,a)))   # map n filter comparision to show true \n",
        "print(list(filter(evenfn,a)))"
      ],
      "metadata": {
        "colab": {
          "base_uri": "https://localhost:8080/"
        },
        "outputId": "d6908120-daaa-4473-878a-bf0821367225",
        "id": "oRFqcI2B3dFk"
      },
      "execution_count": null,
      "outputs": [
        {
          "output_type": "stream",
          "name": "stdout",
          "text": [
            "[True, False, True, False, True, False, True, False, True, False, True]\n",
            "[0, 2, 4, 6, 8, 10]\n"
          ]
        }
      ]
    },
    {
      "cell_type": "markdown",
      "source": [
        "#Lambda function - To  Create anonymous functions,arguments using def"
      ],
      "metadata": {
        "id": "DAH252u_3GO8"
      }
    },
    {
      "cell_type": "code",
      "source": [
        "#Normal fn\n",
        "def cubefn(num):      #cube functtion\n",
        "  return num**3\n",
        "cubefn(3)"
      ],
      "metadata": {
        "colab": {
          "base_uri": "https://localhost:8080/"
        },
        "id": "iglEabQK34Qw",
        "outputId": "50173d9d-d98f-433c-8bee-ab46520566d4"
      },
      "execution_count": null,
      "outputs": [
        {
          "output_type": "execute_result",
          "data": {
            "text/plain": [
              "27"
            ]
          },
          "metadata": {},
          "execution_count": 90
        }
      ]
    },
    {
      "cell_type": "code",
      "source": [
        "#Lambda fn\n",
        "cubefn = lambda num:num ** 3\n",
        "cubefn(3)"
      ],
      "metadata": {
        "colab": {
          "base_uri": "https://localhost:8080/"
        },
        "id": "cl_qkhzc4KcA",
        "outputId": "b6a69675-91d6-4f4c-e755-e883ddd97c9d"
      },
      "execution_count": null,
      "outputs": [
        {
          "output_type": "execute_result",
          "data": {
            "text/plain": [
              "27"
            ]
          },
          "metadata": {},
          "execution_count": 92
        }
      ]
    },
    {
      "cell_type": "markdown",
      "source": [
        "# *args & ***kwargs"
      ],
      "metadata": {
        "id": "nEN8KvpN4kqB"
      }
    },
    {
      "cell_type": "code",
      "source": [
        "#Normal fn, with arguments \n",
        "def addR(a,b,c):\n",
        "  add = a+b+c\n",
        "  return add\n",
        "addR(1,2,3)"
      ],
      "metadata": {
        "colab": {
          "base_uri": "https://localhost:8080/"
        },
        "id": "5OytWfDp4vSS",
        "outputId": "3a06fd40-d657-48a2-ef29-03d4ad41647d"
      },
      "execution_count": null,
      "outputs": [
        {
          "output_type": "execute_result",
          "data": {
            "text/plain": [
              "6"
            ]
          },
          "metadata": {},
          "execution_count": 93
        }
      ]
    },
    {
      "cell_type": "code",
      "source": [
        "#Purpose of *args\n",
        "def addR(*a): #we can write anything in place of args just we have to add * ahead of it(*argg,*b) by giving * ahead of any argument we can take numbers of argumnets result\n",
        "   return sum(a)\n",
        "addR(1,2,3,4,5,6)"
      ],
      "metadata": {
        "colab": {
          "base_uri": "https://localhost:8080/"
        },
        "id": "Iwu9A1eg5Vde",
        "outputId": "b60f0d02-5da3-4c13-aae9-4b2d2648af32"
      },
      "execution_count": null,
      "outputs": [
        {
          "output_type": "execute_result",
          "data": {
            "text/plain": [
              "21"
            ]
          },
          "metadata": {},
          "execution_count": 95
        }
      ]
    },
    {
      "cell_type": "markdown",
      "source": [
        "# **kwargs - dictionary of key/value pairs"
      ],
      "metadata": {
        "id": "vywnYaSa6fe2"
      }
    },
    {
      "cell_type": "code",
      "source": [
        "#Purpose of **kwargs \n",
        "def func(**kwargs):\n",
        "  if \"name\" in kwargs:\n",
        "    print(\"My name is {0}\".format(kwargs[\"name\"]))\n",
        "  if \"age\" in kwargs:\n",
        "    print(\"My age is {0}\".format(kwargs[\"age\"]))\n",
        "  else:\n",
        "    print(\"No key Found\")\n",
        "\n",
        "func(name=\"KinG\",age=22,n = 3)   #it cannot print extra arguements"
      ],
      "metadata": {
        "colab": {
          "base_uri": "https://localhost:8080/"
        },
        "id": "gSiWOAeV7k6c",
        "outputId": "6f0eea90-8e21-41a3-9f48-f10555c3f7dc"
      },
      "execution_count": null,
      "outputs": [
        {
          "output_type": "stream",
          "name": "stdout",
          "text": [
            "My name is KinG\n",
            "My age is 22\n"
          ]
        }
      ]
    },
    {
      "cell_type": "markdown",
      "source": [
        "#Object Oriented Programming(OOPs)\n",
        "#Student\n",
        "#User defined Objects created x using using Class - Intializing Class"
      ],
      "metadata": {
        "id": "_Ij8eTgKAz-T"
      }
    },
    {
      "cell_type": "code",
      "source": [
        "class Student:\n",
        "  print(\"Hello All\")\n",
        "x = Student()     #Object Instantiation\n",
        "print(type(x))  "
      ],
      "metadata": {
        "colab": {
          "base_uri": "https://localhost:8080/"
        },
        "id": "-d0F3IL7BPoA",
        "outputId": "45488eb2-8652-444d-a045-130970b68c61"
      },
      "execution_count": null,
      "outputs": [
        {
          "output_type": "stream",
          "name": "stdout",
          "text": [
            "Hello All\n",
            "<class '__main__.Student'>\n"
          ]
        }
      ]
    },
    {
      "cell_type": "code",
      "source": [
        "class student:\n",
        "  def func():\n",
        "    print(\"Hello all\")\n",
        "student.func()"
      ],
      "metadata": {
        "colab": {
          "base_uri": "https://localhost:8080/"
        },
        "id": "i_YtiD47CrHD",
        "outputId": "e9032d4a-6908-433a-febf-0a066c00c41d"
      },
      "execution_count": null,
      "outputs": [
        {
          "output_type": "stream",
          "name": "stdout",
          "text": [
            "Hello all\n"
          ]
        }
      ]
    },
    {
      "cell_type": "code",
      "source": [
        "class student:\n",
        "  def func(self):\n",
        "    print(\"hello all\")\n",
        "x=student()   #object instantiation \n",
        "x.func()"
      ],
      "metadata": {
        "colab": {
          "base_uri": "https://localhost:8080/"
        },
        "id": "ZQLPpBYGEtTY",
        "outputId": "ffafb7a3-99be-4328-aeb7-9dfb76ffcbd8"
      },
      "execution_count": null,
      "outputs": [
        {
          "output_type": "stream",
          "name": "stdout",
          "text": [
            "hello all\n"
          ]
        }
      ]
    },
    {
      "cell_type": "markdown",
      "source": [
        "#Class Object attribute - same for any instance of the class"
      ],
      "metadata": {
        "id": "F5VV91cCFRoE"
      }
    },
    {
      "cell_type": "code",
      "source": [
        "class student:\n",
        "  year = 2022\n",
        "  def func(self):\n",
        "    print(\"Hello all\")\n",
        "x = student()   # object instantiation \n",
        "x.year\n"
      ],
      "metadata": {
        "colab": {
          "base_uri": "https://localhost:8080/",
          "height": 36
        },
        "id": "RJk_Bu75FmsZ",
        "outputId": "92133843-5fbd-4dd1-e840-451c03576e52"
      },
      "execution_count": null,
      "outputs": [
        {
          "output_type": "execute_result",
          "data": {
            "text/plain": [
              "'2022'"
            ],
            "application/vnd.google.colaboratory.intrinsic+json": {
              "type": "string"
            }
          },
          "metadata": {},
          "execution_count": 110
        }
      ]
    },
    {
      "cell_type": "code",
      "source": [
        "class student:\n",
        "  year = 2022\n",
        "  def func(self):\n",
        "    print(\"Hello all\", self.year)\n",
        "x = student()\n",
        "x.func()\n"
      ],
      "metadata": {
        "colab": {
          "base_uri": "https://localhost:8080/"
        },
        "id": "Y6aydRyIGuVd",
        "outputId": "759c0c4f-6a59-460a-8801-cb074f20b3a5"
      },
      "execution_count": null,
      "outputs": [
        {
          "output_type": "stream",
          "name": "stdout",
          "text": [
            "Hello all 2022\n"
          ]
        }
      ]
    },
    {
      "cell_type": "markdown",
      "source": [
        "#Attribute of an object (Characteristics of an object) Attribute won't take any argument "
      ],
      "metadata": {
        "id": "UL4_-ES3HcQI"
      }
    },
    {
      "cell_type": "code",
      "source": [
        "class student:\n",
        "  def __init__(self,name): #__init__ (Method) to initialize attribute of an object (constuctor)\n",
        "     self.name = name  #self.name = attribute initialized \n",
        "     #(Creating Insurance of student class (object of bcertain class))\n",
        "king = student(name = \"KinG  AnuJ !\")  #name: argument\n",
        "\n",
        "print(king.name)  #accessing class attribute through object "
      ],
      "metadata": {
        "colab": {
          "base_uri": "https://localhost:8080/"
        },
        "id": "aEOaNF-4H2Bv",
        "outputId": "5e308c14-d4a3-43c7-a571-97dfcd29778e"
      },
      "execution_count": null,
      "outputs": [
        {
          "output_type": "stream",
          "name": "stdout",
          "text": [
            "KinG  AnuJ !\n"
          ]
        }
      ]
    },
    {
      "cell_type": "code",
      "source": [
        "class student:\n",
        "  def __init__(self,name):\n",
        "    self.name = name\n",
        "king = student(name = \"KING ANUJ !\")\n",
        "love = student(name =\"MOM DAD BHAII !\")\n",
        "\n",
        "print(king.name)\n",
        "print(love.name)"
      ],
      "metadata": {
        "colab": {
          "base_uri": "https://localhost:8080/"
        },
        "id": "PP6WcirqKdIx",
        "outputId": "85fbb15c-82f2-423f-f993-f82a62ee35c5"
      },
      "execution_count": null,
      "outputs": [
        {
          "output_type": "stream",
          "name": "stdout",
          "text": [
            "KING ANUJ !\n",
            "MOM DAD BHAII !\n"
          ]
        }
      ]
    },
    {
      "cell_type": "code",
      "source": [
        "class student:\n",
        "  def __init__(self,name,age):\n",
        "    self.name = name\n",
        "    self.age = age\n",
        "king = student(name = \"KinG AnuJ !\",age = 22)\n",
        "love = student(name = \"MoM DaD BhaII !\",age = 104)\n",
        "\n",
        "print(king.name)\n",
        "print(king.age)\n",
        "print(love.name)\n",
        "print(love.age)"
      ],
      "metadata": {
        "colab": {
          "base_uri": "https://localhost:8080/"
        },
        "id": "aL_HZ2VbN1W5",
        "outputId": "38bcb368-720c-4405-e959-4ec497987216"
      },
      "execution_count": null,
      "outputs": [
        {
          "output_type": "stream",
          "name": "stdout",
          "text": [
            "KinG AnuJ !\n",
            "22\n",
            "MoM DaD BhaII !\n",
            "104\n"
          ]
        }
      ]
    },
    {
      "cell_type": "code",
      "source": [
        "class Student:\n",
        "  Total = 500\n",
        "\n",
        "  def __init__(self,marks):\n",
        "    self.marks = marks\n",
        "    print(\"Intialized...\")\n",
        "  def findloss(self):\n",
        "    return self.Total - self.marks\n",
        "  def findPercentage(self):\n",
        "    return self.marks/self.Total*100\n",
        "\n",
        "a = Student(marks = 450)\n",
        "\n",
        "print(\"Total Marks:\",a.Total)\n",
        "print(\"Lossed Marks:\",a.findloss())\n",
        "print(\"Percentage is:\",a.findPercentage())"
      ],
      "metadata": {
        "colab": {
          "base_uri": "https://localhost:8080/"
        },
        "id": "vWnp_U81SGep",
        "outputId": "6b7356dc-21a5-498e-fec8-3be218d838cd"
      },
      "execution_count": null,
      "outputs": [
        {
          "output_type": "stream",
          "name": "stdout",
          "text": [
            "Intialized...\n",
            "Total Marks: 500\n",
            "Lossed Marks: 50\n",
            "Percentage is: 90.0\n"
          ]
        }
      ]
    },
    {
      "cell_type": "markdown",
      "source": [
        "#Special Methods"
      ],
      "metadata": {
        "id": "UYmvhmnAVRFY"
      }
    },
    {
      "cell_type": "code",
      "source": [
        "class Student:\n",
        "  Total = 500\n",
        "\n",
        "  def __init__(self,name,marks,gender):\n",
        "    self.name= name\n",
        "    self.marks = marks\n",
        "    self.gender = gender\n",
        "    print(\"Intialized...\")\n",
        "\n",
        "  def __len__(self):\n",
        "    return self.marks\n",
        "\n",
        "  def __str__(self):\n",
        "    return \"Name: %s | Marks: %s | Gender: %s \"%(self.name,self.marks,self.gender)\n",
        "\n",
        "  def __del__(self):\n",
        "    print(\"student Database is Deleted\")\n",
        "\n",
        "a = Student(\"KinG\",450,\"male\")\n",
        "\n",
        "print(a)\n",
        "print(\"Marks: \",len(a))\n",
        "del a"
      ],
      "metadata": {
        "colab": {
          "base_uri": "https://localhost:8080/"
        },
        "id": "XYSXcJ5rbFqz",
        "outputId": "a29e1f50-f255-49d7-c658-df1899da0387"
      },
      "execution_count": null,
      "outputs": [
        {
          "output_type": "stream",
          "name": "stdout",
          "text": [
            "Intialized...\n",
            "Name: KinG | Marks: 450 | Gender: male \n",
            "Marks:  450\n",
            "student Database is Deleted\n"
          ]
        }
      ]
    },
    {
      "cell_type": "markdown",
      "source": [
        "#Inheritance - Help to reduce complexity of the program \n",
        "\n",
        "#Base class & Derived class"
      ],
      "metadata": {
        "id": "aN1pc5ITcy_0"
      }
    },
    {
      "cell_type": "code",
      "source": [
        "class KinG:    #Base class(child)\n",
        "  def __init__(self):\n",
        "    print(\"Profile Created\")\n",
        " \n",
        "  def name(self):\n",
        "    print(\"KinG AnuJ\")\n",
        " \n",
        "  def age(self):\n",
        "    print(\"40\")\n",
        "\n",
        "class Love(KinG):     #Derived class (Parent)\n",
        "  def __init__(self):\n",
        "    KinG.__init__(self)\n",
        "    print(\"Company Profile Created\")\n",
        " \n",
        "  def name(self):\n",
        "    print(\"Love\")\n",
        "\n",
        "  def type(self):\n",
        "    print(\"Private Exclusive Shop\")\n"
      ],
      "metadata": {
        "id": "n8weJiBSdOyb"
      },
      "execution_count": null,
      "outputs": []
    },
    {
      "cell_type": "code",
      "source": [
        "a = Love()"
      ],
      "metadata": {
        "colab": {
          "base_uri": "https://localhost:8080/"
        },
        "id": "bUIOLIAtgCfY",
        "outputId": "8cbb9044-b7e5-4367-c9f3-5a21399536c1"
      },
      "execution_count": null,
      "outputs": [
        {
          "output_type": "stream",
          "name": "stdout",
          "text": [
            "Profile Created\n",
            "Company Profile Created\n"
          ]
        }
      ]
    },
    {
      "cell_type": "code",
      "source": [
        "a.age()"
      ],
      "metadata": {
        "colab": {
          "base_uri": "https://localhost:8080/"
        },
        "id": "49gvsbVphOtO",
        "outputId": "7952f1d3-1157-4510-95d8-2d08487f7d11"
      },
      "execution_count": null,
      "outputs": [
        {
          "output_type": "stream",
          "name": "stdout",
          "text": [
            "40\n"
          ]
        }
      ]
    },
    {
      "cell_type": "code",
      "source": [
        "a.name()  #Derived class modified behaviour of base class"
      ],
      "metadata": {
        "colab": {
          "base_uri": "https://localhost:8080/"
        },
        "id": "2KScN2tlgZ2_",
        "outputId": "aea14fe7-2e93-4ae0-a7b8-0feec64f14cd"
      },
      "execution_count": null,
      "outputs": [
        {
          "output_type": "stream",
          "name": "stdout",
          "text": [
            "Love\n"
          ]
        }
      ]
    },
    {
      "cell_type": "markdown",
      "source": [
        "#Polymorphism\n",
        "Diffrerent object classes can share the same method name,and those methods can be called from the same place even though a different objects passed in\n"
      ],
      "metadata": {
        "id": "oYe0P8hrhUGt"
      }
    },
    {
      "cell_type": "code",
      "source": [
        "class KinG:\n",
        "  def __init__(self,name):\n",
        "    self.name = name \n",
        "  \n",
        "  def type(self):\n",
        "    return \"Enterpreneur\"\n",
        "\n",
        "class Sundar:\n",
        "  def __init__(self,name):\n",
        "    self.name = name\n",
        "\n",
        "  def type(self):\n",
        "    return \"CEO\"\n",
        "\n",
        "person1 = KinG(\"KinG AnuJ\")  #name: argument\n",
        "person2 = Sundar(\"Sundar Pichai\")"
      ],
      "metadata": {
        "id": "f9dnqi5rrauL"
      },
      "execution_count": null,
      "outputs": []
    },
    {
      "cell_type": "code",
      "source": [
        "#returning unique result of object which have same method(type)\n",
        "print(person1.type())\n",
        "print(person2.type())"
      ],
      "metadata": {
        "colab": {
          "base_uri": "https://localhost:8080/"
        },
        "id": "wgujaxubtZ3r",
        "outputId": "55554dde-b64e-45c2-f78a-73b0357f1a53"
      },
      "execution_count": null,
      "outputs": [
        {
          "output_type": "stream",
          "name": "stdout",
          "text": [
            "Enterpreneur\n",
            "CEO\n"
          ]
        }
      ]
    },
    {
      "cell_type": "code",
      "source": [
        "for i in [person1,person2]:\n",
        "  print(i.name)\n",
        "  print(i.type())\n",
        "  print(\"***************\")"
      ],
      "metadata": {
        "colab": {
          "base_uri": "https://localhost:8080/"
        },
        "id": "gqJNiVjmt0eY",
        "outputId": "e1921973-850e-4773-b173-b81e5be6422d"
      },
      "execution_count": null,
      "outputs": [
        {
          "output_type": "stream",
          "name": "stdout",
          "text": [
            "KinG AnuJ\n",
            "Enterpreneur\n",
            "***************\n",
            "Sundar Pichai\n",
            "CEO\n",
            "***************\n"
          ]
        }
      ]
    },
    {
      "cell_type": "markdown",
      "source": [
        "#Python decorators - functions which modify the functionality of another function/class"
      ],
      "metadata": {
        "id": "FJ1n6yrwl6aD"
      }
    },
    {
      "cell_type": "code",
      "source": [
        "\"\"\"@decName  #first way to decor the func \n",
        "def func():\n",
        "  print(\"Gfg\")\n",
        "\n",
        "\n",
        "EQUAL TO\n",
        "\n",
        "def func():    # 2nd way decor func\n",
        "  print(\"Gfg\")\n",
        "\n",
        "func = decName(func)\"\"\""
      ],
      "metadata": {
        "id": "iuupMpU6m0Td"
      },
      "execution_count": null,
      "outputs": []
    },
    {
      "cell_type": "markdown",
      "source": [
        "#FUNCTION AS OBJECT"
      ],
      "metadata": {
        "id": "Pr9pD_Mjn64K"
      }
    },
    {
      "cell_type": "code",
      "source": [
        "def welcome(a):\n",
        "  print(\"Hello {0},Welcome to LBSNAA !!!\".format(a))\n",
        "welcome(\"KinG\")"
      ],
      "metadata": {
        "colab": {
          "base_uri": "https://localhost:8080/"
        },
        "id": "L-jOWm5RoBxJ",
        "outputId": "92ba798e-19ae-4557-8127-3a98cbc1dcf3"
      },
      "execution_count": null,
      "outputs": [
        {
          "output_type": "stream",
          "name": "stdout",
          "text": [
            "Hello KinG,Welcome to LBSNAA !!!\n"
          ]
        }
      ]
    },
    {
      "cell_type": "code",
      "source": [
        "a = welcome #No paranthesis, if its paranthesis it eill call fn. - FUNCTION AS OBJECT\n",
        "a(\"KinG\")"
      ],
      "metadata": {
        "colab": {
          "base_uri": "https://localhost:8080/"
        },
        "id": "NYtkB90No5gR",
        "outputId": "2dd306ab-ef82-469b-c7b9-e01c6c68c39a"
      },
      "execution_count": null,
      "outputs": [
        {
          "output_type": "stream",
          "name": "stdout",
          "text": [
            "Hello KinG,Welcome to LBSNAA !!!\n"
          ]
        }
      ]
    },
    {
      "cell_type": "markdown",
      "source": [
        "#FUNCTION IN VARIABLE"
      ],
      "metadata": {
        "id": "BzZummyVpXQJ"
      }
    },
    {
      "cell_type": "code",
      "source": [
        "def lowerCase(text):\n",
        "  return text.lower()\n",
        "\n",
        "def upperCase(text):\n",
        "  return text.upper()\n",
        "\n",
        "def a(welcome):\n",
        "  message = welcome(\"Hello all,welcome to LBSNAA\") #FUNCTION IN VARIABLE\n",
        "  print(message)\n",
        "\n",
        "a(lowerCase)\n",
        "a(upperCase)\n"
      ],
      "metadata": {
        "colab": {
          "base_uri": "https://localhost:8080/"
        },
        "id": "Hfktq5BEphYK",
        "outputId": "09d282b7-bd8c-49b4-913a-9a328722fcec"
      },
      "execution_count": null,
      "outputs": [
        {
          "output_type": "stream",
          "name": "stdout",
          "text": [
            "hello all,welcome to lbsnaa\n",
            "HELLO ALL,WELCOME TO LBSNAA\n"
          ]
        }
      ]
    },
    {
      "cell_type": "markdown",
      "source": [
        "#RETURNING FUNCTION FROM ANOTHER FUNCTION"
      ],
      "metadata": {
        "id": "cZkUa9OFq1A0"
      }
    },
    {
      "cell_type": "code",
      "source": [
        "def addMain(a):   #child\n",
        "  def addSub(b):  #parent = a+b\n",
        "    print(a,b)\n",
        "    return a + b  #apple \n",
        "  return addSub   #return of parent is return of child now - apple {child = return(parent)}\n",
        "\n",
        "addition = addMain(100)\n",
        "print(addition(75))"
      ],
      "metadata": {
        "colab": {
          "base_uri": "https://localhost:8080/"
        },
        "id": "YCMj0vPFras4",
        "outputId": "21a2fd0d-2095-4561-8267-6f29761ab267"
      },
      "execution_count": null,
      "outputs": [
        {
          "output_type": "stream",
          "name": "stdout",
          "text": [
            "100 75\n",
            "175\n"
          ]
        }
      ]
    },
    {
      "cell_type": "markdown",
      "source": [
        "#DECORATORS in ACTION"
      ],
      "metadata": {
        "id": "NLwfLXX0sQZ6"
      }
    },
    {
      "cell_type": "code",
      "source": [
        "def decoratorfunc(welcome):   #2. Decorator\n",
        "   def a():   #3. can access the outer local functions like in this case \"welcome\"\n",
        "      print(\"Start\")\n",
        "      welcome()  #4. calling actual func\n",
        "      print(\"End\")\n",
        "   return a\n",
        "\n",
        "@decoratorfunc    #1st case of decor func\n",
        "def Subfunc():     \n",
        "  print(\"Sub fn\")\n",
        "\n",
        "#Subfunc = decoratorfunc(Subfunc)  #1. Subfunc inside the decorator to control behaviour (#2nd case of decor func )\n",
        "\n",
        "Subfunc()\n"
      ],
      "metadata": {
        "colab": {
          "base_uri": "https://localhost:8080/"
        },
        "id": "WRoQ5TyYsWrA",
        "outputId": "3c98fbd9-2cd8-4103-9b94-8a04a2e50698"
      },
      "execution_count": null,
      "outputs": [
        {
          "output_type": "stream",
          "name": "stdout",
          "text": [
            "Start\n",
            "Sub fn\n",
            "End\n"
          ]
        }
      ]
    },
    {
      "cell_type": "markdown",
      "source": [
        "#Python Generators - to generate as we go along,instead of holding everything in memory & generator functions will automatically suspend and resume their execution and state around the last point of value generation | n. This feature is known as a suspension "
      ],
      "metadata": {
        "id": "4gzGzzKBuSX5"
      }
    },
    {
      "cell_type": "code",
      "source": [
        "def square(n):\n",
        "  for i in range(n):\n",
        "    yield i**2\n"
      ],
      "metadata": {
        "id": "l7mLWYZpxfnq"
      },
      "execution_count": null,
      "outputs": []
    },
    {
      "cell_type": "code",
      "source": [
        "for i in square(10):\n",
        "  print(i)"
      ],
      "metadata": {
        "colab": {
          "base_uri": "https://localhost:8080/"
        },
        "id": "zbnr7X8Nx37h",
        "outputId": "2577c61c-2118-4caa-f6b8-e74763dfca4f"
      },
      "execution_count": null,
      "outputs": [
        {
          "output_type": "stream",
          "name": "stdout",
          "text": [
            "0\n",
            "1\n",
            "4\n",
            "9\n",
            "16\n",
            "25\n",
            "36\n",
            "49\n",
            "64\n",
            "81\n"
          ]
        }
      ]
    },
    {
      "cell_type": "markdown",
      "source": [
        "#Builtin Function - next "
      ],
      "metadata": {
        "id": "j6Jt6IbsyJC3"
      }
    },
    {
      "cell_type": "code",
      "source": [
        " def square():\n",
        "   for i in range (n):\n",
        "    yield i**2\n"
      ],
      "metadata": {
        "id": "FVCiDTtpyPRg"
      },
      "execution_count": null,
      "outputs": []
    },
    {
      "cell_type": "code",
      "source": [
        "a = square()"
      ],
      "metadata": {
        "id": "04BYhVJKzAbt"
      },
      "execution_count": null,
      "outputs": []
    },
    {
      "cell_type": "code",
      "source": [
        "print(next(a))  #After yielding all the values next() caused a stopIteration error"
      ],
      "metadata": {
        "colab": {
          "base_uri": "https://localhost:8080/",
          "height": 165
        },
        "id": "75cDYjRa2_yF",
        "outputId": "2f902f4c-2b3e-4b8e-f2f1-c69295268e8f"
      },
      "execution_count": null,
      "outputs": [
        {
          "output_type": "error",
          "ename": "StopIteration",
          "evalue": "ignored",
          "traceback": [
            "\u001b[0;31m---------------------------------------------------------------------------\u001b[0m",
            "\u001b[0;31mStopIteration\u001b[0m                             Traceback (most recent call last)",
            "\u001b[0;32m<ipython-input-65-9a773231d105>\u001b[0m in \u001b[0;36m<module>\u001b[0;34m\u001b[0m\n\u001b[0;32m----> 1\u001b[0;31m \u001b[0mprint\u001b[0m\u001b[0;34m(\u001b[0m\u001b[0mnext\u001b[0m\u001b[0;34m(\u001b[0m\u001b[0ma\u001b[0m\u001b[0;34m)\u001b[0m\u001b[0;34m)\u001b[0m  \u001b[0;31m#After yielding all the values next() caused a stopIteration error\u001b[0m\u001b[0;34m\u001b[0m\u001b[0;34m\u001b[0m\u001b[0m\n\u001b[0m",
            "\u001b[0;31mStopIteration\u001b[0m: "
          ]
        }
      ]
    },
    {
      "cell_type": "markdown",
      "source": [
        "#Builtin func - iter"
      ],
      "metadata": {
        "id": "k3WlYPErzi3w"
      }
    },
    {
      "cell_type": "code",
      "source": [
        "a = \"KinG\"\n",
        "for i in a:\n",
        "  print(i)"
      ],
      "metadata": {
        "colab": {
          "base_uri": "https://localhost:8080/"
        },
        "id": "ay9yAiLozu8s",
        "outputId": "40f01f3d-59e4-4fc8-f736-bb5b93d341cd"
      },
      "execution_count": null,
      "outputs": [
        {
          "output_type": "stream",
          "name": "stdout",
          "text": [
            "K\n",
            "i\n",
            "n\n",
            "G\n"
          ]
        }
      ]
    },
    {
      "cell_type": "code",
      "source": [
        "next(a)"
      ],
      "metadata": {
        "id": "nSi-7Inoz7aK"
      },
      "execution_count": null,
      "outputs": []
    },
    {
      "cell_type": "code",
      "source": [
        "iteroper = iter(a)  #Previous error is solved with the help of generator "
      ],
      "metadata": {
        "id": "Igh3dWbQ0B08"
      },
      "execution_count": null,
      "outputs": []
    },
    {
      "cell_type": "code",
      "source": [
        "next(iteroper)"
      ],
      "metadata": {
        "colab": {
          "base_uri": "https://localhost:8080/",
          "height": 165
        },
        "id": "EJUU61383Qar",
        "outputId": "9a7bac5a-5b76-41e7-9e21-c4ebcb56784d"
      },
      "execution_count": null,
      "outputs": [
        {
          "output_type": "error",
          "ename": "StopIteration",
          "evalue": "ignored",
          "traceback": [
            "\u001b[0;31m---------------------------------------------------------------------------\u001b[0m",
            "\u001b[0;31mStopIteration\u001b[0m                             Traceback (most recent call last)",
            "\u001b[0;32m<ipython-input-64-735b09c39f0b>\u001b[0m in \u001b[0;36m<module>\u001b[0;34m\u001b[0m\n\u001b[0;32m----> 1\u001b[0;31m \u001b[0mnext\u001b[0m\u001b[0;34m(\u001b[0m\u001b[0miteroper\u001b[0m\u001b[0;34m)\u001b[0m\u001b[0;34m\u001b[0m\u001b[0;34m\u001b[0m\u001b[0m\n\u001b[0m",
            "\u001b[0;31mStopIteration\u001b[0m: "
          ]
        }
      ]
    },
    {
      "cell_type": "markdown",
      "source": [
        "# 17. Python Modules & Libraries"
      ],
      "metadata": {
        "id": "DEKNAMnz8VbI"
      }
    },
    {
      "cell_type": "markdown",
      "source": [
        "#Accessing one Python program from another program "
      ],
      "metadata": {
        "id": "Z-6evXni8ijN"
      }
    },
    {
      "cell_type": "code",
      "source": [
        "import main  #importing python files\n",
        "main.welcome() #paranthesis for func\n",
        "x = main.a  #no paranthesis for variables\n",
        "y = main.b\n",
        "print(x+y)"
      ],
      "metadata": {
        "colab": {
          "base_uri": "https://localhost:8080/"
        },
        "id": "VK7UNtIP8hLL",
        "outputId": "5f289e26-a5e6-47b2-a8c4-a20e56a7f68f"
      },
      "execution_count": null,
      "outputs": [
        {
          "output_type": "stream",
          "name": "stdout",
          "text": [
            "Hello all,Welcome to LBSNAA\n",
            "190\n"
          ]
        }
      ]
    },
    {
      "cell_type": "markdown",
      "source": [
        "#Accessing python program from another python program present in another folder"
      ],
      "metadata": {
        "id": "0Na3oarX-o-z"
      }
    },
    {
      "cell_type": "code",
      "source": [
        "from sample_data.demo import main\n",
        "main.welcome()\n",
        "x = main.a \n",
        "y = main.b\n",
        "print(y-x)"
      ],
      "metadata": {
        "colab": {
          "base_uri": "https://localhost:8080/"
        },
        "id": "iUCHUNOC_I_i",
        "outputId": "71318273-7b3b-424d-9420-38e07f3cf5d7"
      },
      "execution_count": null,
      "outputs": [
        {
          "output_type": "stream",
          "name": "stdout",
          "text": [
            "Hello all,Welcome to LBSNAA\n",
            "90\n"
          ]
        }
      ]
    },
    {
      "cell_type": "markdown",
      "source": [
        "#Try Except Finally"
      ],
      "metadata": {
        "id": "Fl7jJ2xD__Ji"
      }
    },
    {
      "cell_type": "markdown",
      "source": [
        "#Base Exception Errors"
      ],
      "metadata": {
        "id": "hfjakexRARJs"
      }
    },
    {
      "cell_type": "code",
      "source": [
        "for i in range(3,-3,-1):\n",
        "  try:\n",
        "    print(1.0/i)\n",
        "  except ZeroDivisionError:\n",
        "    print(\"You're trying to divide by zero. U IDIOT\")"
      ],
      "metadata": {
        "colab": {
          "base_uri": "https://localhost:8080/"
        },
        "id": "Q6LJnL2bAG9x",
        "outputId": "1f486690-8e56-476e-c643-45cb5a75b20e"
      },
      "execution_count": null,
      "outputs": [
        {
          "output_type": "stream",
          "name": "stdout",
          "text": [
            "0.3333333333333333\n",
            "0.5\n",
            "1.0\n",
            "You're trying to divide by zero. U IDIOT\n",
            "-1.0\n",
            "-0.5\n"
          ]
        }
      ]
    },
    {
      "cell_type": "code",
      "source": [
        "for i in range(3,-3,-1):\n",
        "  try:\n",
        "    print(1.0/i)\n",
        "  except ZeroDivisionError as er:\n",
        "    print(\"Zero Division Error:\",str(er.args[0]))"
      ],
      "metadata": {
        "colab": {
          "base_uri": "https://localhost:8080/"
        },
        "id": "sPwxX1BpCBlC",
        "outputId": "68b47adc-ea96-4e5b-c2f0-81495b7a582e"
      },
      "execution_count": null,
      "outputs": [
        {
          "output_type": "stream",
          "name": "stdout",
          "text": [
            "0.3333333333333333\n",
            "0.5\n",
            "1.0\n",
            "Zero Division Error: float division by zero\n",
            "-1.0\n",
            "-0.5\n"
          ]
        }
      ]
    },
    {
      "cell_type": "code",
      "source": [
        "def check():\n",
        "  while True:\n",
        "    try:\n",
        "      a = int(input(\"A:\"))\n",
        "      b = int(input(\"B:\"))\n",
        "    except:\n",
        "      print(\"You did not enetered numbers\")\n",
        "      continue\n",
        "    else:\n",
        "      print(\"Yes its numbers\")\n",
        "      break\n",
        "    finally:\n",
        "      print(\"Execution Successfull\")\n",
        "      print(a+b)\n",
        "check()"
      ],
      "metadata": {
        "colab": {
          "base_uri": "https://localhost:8080/"
        },
        "id": "X5cDRznPCz7E",
        "outputId": "e8484e03-1032-4fbc-df96-8a8a7d738c66"
      },
      "execution_count": null,
      "outputs": [
        {
          "output_type": "stream",
          "name": "stdout",
          "text": [
            "A:34\n",
            "B:56\n",
            "Yes its numbers\n",
            "Execution Successfull\n",
            "90\n"
          ]
        }
      ]
    },
    {
      "cell_type": "markdown",
      "source": [
        "#Importing Library"
      ],
      "metadata": {
        "id": "RYaba4BGD93z"
      }
    },
    {
      "cell_type": "code",
      "source": [
        "import math #import librarytime"
      ],
      "metadata": {
        "id": "i4719fx0EBpF"
      },
      "execution_count": null,
      "outputs": []
    },
    {
      "cell_type": "markdown",
      "source": [
        "#Installing Library"
      ],
      "metadata": {
        "id": "ZGzZG0eLENmv"
      }
    },
    {
      "cell_type": "code",
      "source": [
        "!pip install imutils #pip install libraryName (! Only while executing in colab it is not needed)"
      ],
      "metadata": {
        "colab": {
          "base_uri": "https://localhost:8080/"
        },
        "id": "tXlaZWAwEVYY",
        "outputId": "5396e664-f969-4c44-99f6-6271581f5b5c"
      },
      "execution_count": null,
      "outputs": [
        {
          "output_type": "stream",
          "name": "stdout",
          "text": [
            "Looking in indexes: https://pypi.org/simple, https://us-python.pkg.dev/colab-wheels/public/simple/\n",
            "Requirement already satisfied: imutils in /usr/local/lib/python3.7/dist-packages (0.5.4)\n"
          ]
        }
      ]
    },
    {
      "cell_type": "code",
      "source": [
        "!pip uninstall imutils #pip uninstall libraryNamey\n"
      ],
      "metadata": {
        "colab": {
          "base_uri": "https://localhost:8080/"
        },
        "id": "gYHJYrsgE-Y5",
        "outputId": "a4204491-9bfc-4cbf-ae8e-8ba1e6f68325"
      },
      "execution_count": null,
      "outputs": [
        {
          "output_type": "stream",
          "name": "stdout",
          "text": [
            "Found existing installation: imutils 0.5.4\n",
            "Uninstalling imutils-0.5.4:\n",
            "  Would remove:\n",
            "    /usr/local/bin/range-detector\n",
            "    /usr/local/lib/python3.7/dist-packages/imutils-0.5.4.dist-info/*\n",
            "    /usr/local/lib/python3.7/dist-packages/imutils/*\n",
            "Proceed (y/n)? y\n",
            "  Successfully uninstalled imutils-0.5.4\n"
          ]
        }
      ]
    },
    {
      "cell_type": "code",
      "source": [
        "import imutils\n"
      ],
      "metadata": {
        "colab": {
          "base_uri": "https://localhost:8080/",
          "height": 304
        },
        "id": "Bg1xvmzRFM_a",
        "outputId": "c7d5f29d-e4c3-4188-e15d-7569432bc14b"
      },
      "execution_count": null,
      "outputs": [
        {
          "output_type": "error",
          "ename": "ModuleNotFoundError",
          "evalue": "ignored",
          "traceback": [
            "\u001b[0;31m---------------------------------------------------------------------------\u001b[0m",
            "\u001b[0;31mModuleNotFoundError\u001b[0m                       Traceback (most recent call last)",
            "\u001b[0;32m<ipython-input-77-b2e0c8de941e>\u001b[0m in \u001b[0;36m<module>\u001b[0;34m\u001b[0m\n\u001b[0;32m----> 1\u001b[0;31m \u001b[0;32mimport\u001b[0m \u001b[0mimutils\u001b[0m\u001b[0;34m\u001b[0m\u001b[0;34m\u001b[0m\u001b[0m\n\u001b[0m",
            "\u001b[0;31mModuleNotFoundError\u001b[0m: No module named 'imutils'",
            "",
            "\u001b[0;31m---------------------------------------------------------------------------\u001b[0;32m\nNOTE: If your import is failing due to a missing package, you can\nmanually install dependencies using either !pip or !apt.\n\nTo view examples of installing some common dependencies, click the\n\"Open Examples\" button below.\n\u001b[0;31m---------------------------------------------------------------------------\u001b[0m\n"
          ],
          "errorDetails": {
            "actions": [
              {
                "action": "open_url",
                "actionText": "Open Examples",
                "url": "/notebooks/snippets/importing_libraries.ipynb"
              }
            ]
          }
        }
      ]
    },
    {
      "cell_type": "markdown",
      "source": [
        "#Installing Library based on Version"
      ],
      "metadata": {
        "id": "15XSHhhtFYvh"
      }
    },
    {
      "cell_type": "code",
      "source": [
        "!pip install imutils==0.5.4  #pip install libraryName == VersionNumber"
      ],
      "metadata": {
        "colab": {
          "base_uri": "https://localhost:8080/"
        },
        "id": "gBArghp3FWhv",
        "outputId": "6c8e678d-9d68-4599-f2d6-a296a2e8eae1"
      },
      "execution_count": null,
      "outputs": [
        {
          "output_type": "stream",
          "name": "stdout",
          "text": [
            "Looking in indexes: https://pypi.org/simple, https://us-python.pkg.dev/colab-wheels/public/simple/\n",
            "Collecting imutils==0.5.4\n",
            "  Downloading imutils-0.5.4.tar.gz (17 kB)\n",
            "Building wheels for collected packages: imutils\n",
            "  Building wheel for imutils (setup.py) ... \u001b[?25l\u001b[?25hdone\n",
            "  Created wheel for imutils: filename=imutils-0.5.4-py3-none-any.whl size=25858 sha256=f636971e2fcf888b1cef7b4dbb11f7ee91846b1ac9d2e893586b494fe5f30874\n",
            "  Stored in directory: /root/.cache/pip/wheels/86/d7/0a/4923351ed1cec5d5e24c1eaf8905567b02a0343b24aa873df2\n",
            "Successfully built imutils\n",
            "Installing collected packages: imutils\n",
            "Successfully installed imutils-0.5.4\n"
          ]
        }
      ]
    },
    {
      "cell_type": "markdown",
      "source": [
        "#Checking Installed Library Version "
      ],
      "metadata": {
        "id": "ZvT04c4HF_Od"
      }
    },
    {
      "cell_type": "code",
      "source": [
        "import imutils \n",
        "imutils.__version__"
      ],
      "metadata": {
        "colab": {
          "base_uri": "https://localhost:8080/",
          "height": 36
        },
        "id": "HJ5rTbQ_F9VR",
        "outputId": "22dea07c-c466-4a44-86f7-315754925889"
      },
      "execution_count": null,
      "outputs": [
        {
          "output_type": "execute_result",
          "data": {
            "text/plain": [
              "'0.5.4'"
            ],
            "application/vnd.google.colaboratory.intrinsic+json": {
              "type": "string"
            }
          },
          "metadata": {},
          "execution_count": 80
        }
      ]
    },
    {
      "cell_type": "markdown",
      "source": [
        "#Playing with Libraries"
      ],
      "metadata": {
        "id": "o5nVlFD2Ga3n"
      }
    },
    {
      "cell_type": "markdown",
      "source": [
        "#Math Library"
      ],
      "metadata": {
        "id": "6vtWdHNGGkia"
      }
    },
    {
      "cell_type": "code",
      "source": [
        "import math \n",
        "print(dir(math))\n",
        "print(math.pi)"
      ],
      "metadata": {
        "colab": {
          "base_uri": "https://localhost:8080/"
        },
        "id": "hUaTByScGhOy",
        "outputId": "749badf4-4136-400c-9b46-8f642a71eed9"
      },
      "execution_count": null,
      "outputs": [
        {
          "output_type": "stream",
          "name": "stdout",
          "text": [
            "['__doc__', '__loader__', '__name__', '__package__', '__spec__', 'acos', 'acosh', 'asin', 'asinh', 'atan', 'atan2', 'atanh', 'ceil', 'copysign', 'cos', 'cosh', 'degrees', 'e', 'erf', 'erfc', 'exp', 'expm1', 'fabs', 'factorial', 'floor', 'fmod', 'frexp', 'fsum', 'gamma', 'gcd', 'hypot', 'inf', 'isclose', 'isfinite', 'isinf', 'isnan', 'ldexp', 'lgamma', 'log', 'log10', 'log1p', 'log2', 'modf', 'nan', 'pi', 'pow', 'radians', 'remainder', 'sin', 'sinh', 'sqrt', 'tan', 'tanh', 'tau', 'trunc']\n",
            "3.141592653589793\n"
          ]
        }
      ]
    },
    {
      "cell_type": "code",
      "source": [
        "import math as mt\n",
        "print(dir(mt))\n",
        "print(mt.pi)\n"
      ],
      "metadata": {
        "colab": {
          "base_uri": "https://localhost:8080/"
        },
        "id": "vY_CxnNUHUbK",
        "outputId": "668d475f-2130-4df2-caae-bcc6afa1171f"
      },
      "execution_count": null,
      "outputs": [
        {
          "output_type": "stream",
          "name": "stdout",
          "text": [
            "['__doc__', '__loader__', '__name__', '__package__', '__spec__', 'acos', 'acosh', 'asin', 'asinh', 'atan', 'atan2', 'atanh', 'ceil', 'copysign', 'cos', 'cosh', 'degrees', 'e', 'erf', 'erfc', 'exp', 'expm1', 'fabs', 'factorial', 'floor', 'fmod', 'frexp', 'fsum', 'gamma', 'gcd', 'hypot', 'inf', 'isclose', 'isfinite', 'isinf', 'isnan', 'ldexp', 'lgamma', 'log', 'log10', 'log1p', 'log2', 'modf', 'nan', 'pi', 'pow', 'radians', 'remainder', 'sin', 'sinh', 'sqrt', 'tan', 'tanh', 'tau', 'trunc']\n",
            "3.141592653589793\n"
          ]
        }
      ]
    },
    {
      "cell_type": "markdown",
      "source": [
        "#Reduce "
      ],
      "metadata": {
        "id": "pfSyH0WnHnSq"
      }
    },
    {
      "cell_type": "code",
      "source": [
        "from functools import reduce\n",
        "\n",
        "lst = [47,11,42,13]\n",
        "reduce(lambda x,y: x+y,lst)\n",
        "#reduce(lambda x,y: x-y,lst)"
      ],
      "metadata": {
        "colab": {
          "base_uri": "https://localhost:8080/",
          "height": 0
        },
        "id": "yDUfVV9JHxEc",
        "outputId": "2978891b-8afb-455b-e7c5-ebeaa1920113"
      },
      "execution_count": 89,
      "outputs": [
        {
          "output_type": "execute_result",
          "data": {
            "text/plain": [
              "113"
            ]
          },
          "metadata": {},
          "execution_count": 89
        }
      ]
    },
    {
      "cell_type": "markdown",
      "source": [
        "#IPython\n"
      ],
      "metadata": {
        "id": "JA52YJR7IuWK"
      }
    },
    {
      "cell_type": "code",
      "source": [
        "from IPython.display import Image\n",
        "Image(\"https://www.google.com/google.jpg\")"
      ],
      "metadata": {
        "colab": {
          "base_uri": "https://localhost:8080/",
          "height": 133
        },
        "id": "9GegzNhBIy_t",
        "outputId": "575578a2-2da0-467b-f41a-aea0c57df18c"
      },
      "execution_count": 93,
      "outputs": [
        {
          "output_type": "execute_result",
          "data": {
            "image/jpeg": "[encoded data removed]",
            "text/plain": [
              "<IPython.core.display.Image object>"
            ]
          },
          "metadata": {},
          "execution_count": 93
        }
      ]
    },
    {
      "cell_type": "markdown",
      "source": [
        "#Filter"
      ],
      "metadata": {
        "id": "wBCvxGt0KVRp"
      }
    },
    {
      "cell_type": "code",
      "source": [
        "def check(num):\n",
        "  if num % 2 == 0:\n",
        "    return True\n",
        "lst = range(20)\n",
        "#list(map(check,lst))\n",
        "list(filter(check,lst))"
      ],
      "metadata": {
        "colab": {
          "base_uri": "https://localhost:8080/"
        },
        "id": "PLRE_SURKZOu",
        "outputId": "782990cc-07af-4873-98af-3eebc8488202"
      },
      "execution_count": 98,
      "outputs": [
        {
          "output_type": "execute_result",
          "data": {
            "text/plain": [
              "[0, 2, 4, 6, 8, 10, 12, 14, 16, 18]"
            ]
          },
          "metadata": {},
          "execution_count": 98
        }
      ]
    },
    {
      "cell_type": "markdown",
      "source": [
        "#For loop\n",
        "#if-elif\n",
        "# odd n even\n",
        "# while\n",
        "#break\n",
        "#range"
      ],
      "metadata": {
        "id": "yQoQD7VVlBKH"
      }
    },
    {
      "cell_type": "code",
      "source": [
        "a =[1,2,3,4,5,6]    #for loop\n",
        "for i in a:\n",
        "  print(i)\n",
        "a = [i for i in 'KING']\n",
        "a\n",
        "a =[1,2,3,4]    # for {if-elif}\n",
        "print(\"\\n\")\n",
        "for i in a:     #odd n even\n",
        "  if i % 2 == 0:\n",
        "    print(i,\"Even no.\")\n",
        "  else:\n",
        "    print(i,\"Odd no.\")\n",
        "print(\"\\n\")\n",
        "for a in \"Hello World\":\n",
        "   print(a)\n",
        "print(\"\\n\")\n",
        "a = 0        #while\n",
        "while a < 10:\n",
        "  print(a)\n",
        "  a+=1\n",
        "print(\"\\n\")  #break the line(\"\\n\")\n",
        "for a in range(6):    #range\n",
        "  print(a)"
      ],
      "metadata": {
        "id": "xfnugFCKlXqe"
      },
      "execution_count": null,
      "outputs": []
    },
    {
      "cell_type": "markdown",
      "source": [
        "#while break n continue"
      ],
      "metadata": {
        "id": "L_ujfOU_DC7p"
      }
    },
    {
      "cell_type": "code",
      "source": [
        "a = 0\n",
        "while a < 10:    #while B & C\n",
        "  print(a)\n",
        "  a+=1\n",
        "  if a ==5:\n",
        "    print(\"a is equal to 5\")\n",
        "    break\n",
        "  else:\n",
        "    print(\"continueee\")\n",
        "    continue"
      ],
      "metadata": {
        "colab": {
          "base_uri": "https://localhost:8080/"
        },
        "id": "K_oXQTFnDMeZ",
        "outputId": "7d04c12f-5c68-47d0-e654-b0b72953c848"
      },
      "execution_count": null,
      "outputs": [
        {
          "output_type": "stream",
          "name": "stdout",
          "text": [
            "0\n",
            "continueee\n",
            "1\n",
            "continueee\n",
            "2\n",
            "continueee\n",
            "3\n",
            "continueee\n",
            "4\n",
            "a is equal to 5\n"
          ]
        }
      ]
    },
    {
      "cell_type": "markdown",
      "source": [
        "#Range \n",
        "#Range(\"start point,End,increment(++))\n",
        "#Range(\"start,End,--)\n",
        "#Range(\"square,range\")\n",
        "#Range if "
      ],
      "metadata": {
        "id": "mhSvpPKOEPrG"
      }
    },
    {
      "cell_type": "code",
      "source": [
        "for a in range(6):         #Range\n",
        "  print(a)\n",
        "print(\"\\n\")\n",
        "for a in range(1,12,2):    #Range(\"S,E,++\")\n",
        "  print(a)\n",
        "print(\"\\n\")\n",
        "for a in  range(14,1,-2):  #Range(\"S,E,--\") \n",
        "  print(a)\n",
        "print(\"\\n\")\n",
        "a = [i**2 for i in range(0,6)]  #square,range\n",
        "a\n",
        "print(\"\\n\")\n",
        "a = [i for i in range(10) if i % 2 == 0]\n",
        "print(a) \n",
        "print(\"\\n\")"
      ],
      "metadata": {
        "colab": {
          "base_uri": "https://localhost:8080/"
        },
        "id": "-sNCyMrvE4zY",
        "outputId": "be9fd3e3-3a3d-4de8-bc4b-7150e72b7d2d"
      },
      "execution_count": null,
      "outputs": [
        {
          "output_type": "stream",
          "name": "stdout",
          "text": [
            "0\n",
            "1\n",
            "2\n",
            "3\n",
            "4\n",
            "5\n",
            "\n",
            "\n",
            "1\n",
            "3\n",
            "5\n",
            "7\n",
            "9\n",
            "11\n",
            "\n",
            "\n",
            "14\n",
            "12\n",
            "10\n",
            "8\n",
            "6\n",
            "4\n",
            "2\n",
            "\n",
            "\n",
            "\n",
            "\n",
            "[0, 2, 4, 6, 8]\n",
            "\n",
            "\n"
          ]
        }
      ]
    },
    {
      "cell_type": "markdown",
      "source": [
        "#Enumerate-To track no. of iteration in the loop,without working with variable increment "
      ],
      "metadata": {
        "id": "WBIlyLBqMMnC"
      }
    },
    {
      "cell_type": "code",
      "source": [
        "a = 0\n",
        "for i,a in enumerate(\"Hello King\"):\n",
        "  print(i,a)"
      ],
      "metadata": {
        "colab": {
          "base_uri": "https://localhost:8080/"
        },
        "id": "dzIX2sP9MmKa",
        "outputId": "92393714-c7e3-4bd6-813f-32c7422cb78a"
      },
      "execution_count": null,
      "outputs": [
        {
          "output_type": "stream",
          "name": "stdout",
          "text": [
            "0 H\n",
            "1 e\n",
            "2 l\n",
            "3 l\n",
            "4 o\n",
            "5  \n",
            "6 K\n",
            "7 i\n",
            "8 n\n",
            "9 g\n"
          ]
        }
      ]
    },
    {
      "cell_type": "markdown",
      "source": [
        "#Zip - Creating a tuples 2 list"
      ],
      "metadata": {
        "id": "tJrbeN4TNDTx"
      }
    },
    {
      "cell_type": "code",
      "source": [
        "a = [\"Name\",\"Age\",\"Country\"]\n",
        "b = [\"KING\",22,\"India\"]\n",
        "list(zip(a,b))"
      ],
      "metadata": {
        "colab": {
          "base_uri": "https://localhost:8080/"
        },
        "id": "jSkplo3hNQ1i",
        "outputId": "38d7279b-acfc-4930-b0cd-88521445bdc4"
      },
      "execution_count": null,
      "outputs": [
        {
          "output_type": "execute_result",
          "data": {
            "text/plain": [
              "[('Name', 'KING'), ('Age', 22), ('Country', 'India')]"
            ]
          },
          "metadata": {},
          "execution_count": 62
        }
      ]
    },
    {
      "cell_type": "code",
      "source": [],
      "metadata": {
        "id": "AUL3tNSWNO69"
      },
      "execution_count": null,
      "outputs": []
    },
    {
      "cell_type": "code",
      "source": [
        "#@title DICTIONARY-for\n",
        "a = {\"Name\":\"ANUJ\",\"Age\":\"22\",\"Company\":['KING','love']}  #dictionary-for\n",
        "for k,v in a.items():\n",
        "   print(k)\n",
        "   #print(v)"
      ],
      "metadata": {
        "colab": {
          "base_uri": "https://localhost:8080/"
        },
        "id": "9F8-E-PE9U3b",
        "outputId": "f8697205-4e75-46e9-d902-62af0e720660"
      },
      "execution_count": null,
      "outputs": [
        {
          "output_type": "stream",
          "name": "stdout",
          "text": [
            "Name\n",
            "Age\n",
            "Company\n"
          ]
        }
      ]
    },
    {
      "cell_type": "code",
      "source": [
        "#@title dictionary-for\n",
        "a = {\"Name\":\"ANUJ\",\"Age\":\"22\",\"Company\":['KING','love']}   #dictionary-for\n",
        "for k,v in a.items():\n",
        "   print(k)\n",
        "   print(v)"
      ],
      "metadata": {
        "colab": {
          "base_uri": "https://localhost:8080/"
        },
        "outputId": "f9ac3ae1-c633-44c9-8db0-09ab50d0377a",
        "id": "lQINlbtO_QsX"
      },
      "execution_count": null,
      "outputs": [
        {
          "output_type": "stream",
          "name": "stdout",
          "text": [
            "Name\n",
            "ANUJ\n",
            "Age\n",
            "22\n",
            "Company\n",
            "['KING', 'love']\n"
          ]
        }
      ]
    },
    {
      "cell_type": "code",
      "source": [
        "#@title Dictionary(\"keys,values,items\")\n",
        "a={\"Name\":\"KING\",\"Age\":23,\"Company\":[\"Qconnect\",\"kunjvihar\"]}   #dictionarty (\"keys,items,values\")\n",
        "print(a[\"Name\"])\n",
        "a[\"Age\"]=22\n",
        "a\n",
        "print(a.keys())\n",
        "print(a.values())\n",
        "print(a.items())\n"
      ],
      "metadata": {
        "colab": {
          "base_uri": "https://localhost:8080/"
        },
        "id": "WV7BndZF14yd",
        "outputId": "1d47661d-23b0-4e06-f576-095541ecc672"
      },
      "execution_count": null,
      "outputs": [
        {
          "output_type": "stream",
          "name": "stdout",
          "text": [
            "KING\n",
            "dict_keys(['Name', 'Age', 'Company'])\n",
            "dict_values(['KING', 22, ['Qconnect', 'kunjvihar']])\n",
            "dict_items([('Name', 'KING'), ('Age', 22), ('Company', ['Qconnect', 'kunjvihar'])])\n"
          ]
        }
      ]
    },
    {
      "cell_type": "code",
      "source": [
        "#@title Set()\n",
        "a = set()     #set()\n",
        "a.add(\"ANUJ\")\n",
        "a.add(\"OP\")\n",
        "a"
      ],
      "metadata": {
        "colab": {
          "base_uri": "https://localhost:8080/"
        },
        "id": "QBcA5N8s4lYZ",
        "outputId": "00ab6405-329f-4f92-d5e4-a652794bdb90"
      },
      "execution_count": null,
      "outputs": [
        {
          "output_type": "execute_result",
          "data": {
            "text/plain": [
              "{'ANUJ', 'OP'}"
            ]
          },
          "metadata": {},
          "execution_count": 22
        }
      ]
    },
    {
      "cell_type": "code",
      "source": [
        "#@title if - else, boolean(T{1} / F{0})\n",
        "a = True    #if -else (boolean true n fale)\n",
        "if a:\n",
        "  print(\"++\")\n",
        "else:\n",
        "  print(\"--\")\n",
        "\n",
        "\n",
        "a = 6     #Boolean (T(1) / F (0))\n",
        "b = 7\n",
        "print(a<b)\n",
        "print(a>b)"
      ],
      "metadata": {
        "colab": {
          "base_uri": "https://localhost:8080/"
        },
        "id": "wbx-m80M5TVE",
        "outputId": "2176d13e-20e7-4881-f6f9-753368f785b4"
      },
      "execution_count": null,
      "outputs": [
        {
          "output_type": "stream",
          "name": "stdout",
          "text": [
            "++\n"
          ]
        }
      ]
    },
    {
      "cell_type": "code",
      "source": [
        "#@title if-elif \n",
        "a= 5      # if -elif condition\n",
        "b=7\n",
        "c=8\n",
        "if a<b:\n",
        "  print(\"a less than b\")\n",
        "elif c==b:\n",
        "  print(\"a is equal to b\")\n",
        "else:\n",
        "  print(\"a is not less than b\")"
      ],
      "metadata": {
        "colab": {
          "base_uri": "https://localhost:8080/"
        },
        "id": "YuPE3TRA6Sr9",
        "outputId": "1d081bfb-9f74-4db7-f6e8-c74072368fb2"
      },
      "execution_count": null,
      "outputs": [
        {
          "output_type": "stream",
          "name": "stdout",
          "text": [
            "a less than b\n"
          ]
        }
      ]
    },
    {
      "cell_type": "code",
      "source": [],
      "metadata": {
        "id": "vscLmJAOx63R"
      },
      "execution_count": null,
      "outputs": []
    }
  ]
}